{
  "nbformat": 4,
  "nbformat_minor": 0,
  "metadata": {
    "colab": {
      "provenance": [],
      "gpuType": "T4"
    },
    "kernelspec": {
      "name": "python3",
      "display_name": "Python 3"
    },
    "language_info": {
      "name": "python"
    },
    "accelerator": "GPU"
  },
  "cells": [
    {
      "cell_type": "code",
      "source": [
        "import gym\n",
        "\n",
        "env = gym.make('BipedalWalker-v3')\n",
        "observation = env.reset()\n",
        "\n",
        "print(\"Observation space:\", env.observation_space)\n",
        "print(\"Action space:\", env.action_space)\n"
      ],
      "metadata": {
        "colab": {
          "base_uri": "https://localhost:8080/"
        },
        "id": "7VhTeyrwJkaf",
        "outputId": "5e77a211-f953-453d-c6fb-7e03c55f68f5"
      },
      "execution_count": 9,
      "outputs": [
        {
          "output_type": "stream",
          "name": "stdout",
          "text": [
            "Observation space: Box([-3.1415927 -5.        -5.        -5.        -3.1415927 -5.\n",
            " -3.1415927 -5.        -0.        -3.1415927 -5.        -3.1415927\n",
            " -5.        -0.        -1.        -1.        -1.        -1.\n",
            " -1.        -1.        -1.        -1.        -1.        -1.       ], [3.1415927 5.        5.        5.        3.1415927 5.        3.1415927\n",
            " 5.        5.        3.1415927 5.        3.1415927 5.        5.\n",
            " 1.        1.        1.        1.        1.        1.        1.\n",
            " 1.        1.        1.       ], (24,), float32)\n",
            "Action space: Box(-1.0, 1.0, (4,), float32)\n"
          ]
        },
        {
          "output_type": "stream",
          "name": "stderr",
          "text": [
            "/usr/local/lib/python3.10/dist-packages/gym/core.py:317: DeprecationWarning: \u001b[33mWARN: Initializing wrapper in old step API which returns one bool instead of two. It is recommended to set `new_step_api=True` to use new step API. This will be the default behaviour in future.\u001b[0m\n",
            "  deprecation(\n",
            "/usr/local/lib/python3.10/dist-packages/gym/wrappers/step_api_compatibility.py:39: DeprecationWarning: \u001b[33mWARN: Initializing environment in old step API which returns one bool instead of two. It is recommended to set `new_step_api=True` to use new step API. This will be the default behaviour in future.\u001b[0m\n",
            "  deprecation(\n"
          ]
        }
      ]
    },
    {
      "cell_type": "code",
      "source": [
        "from stable_baselines3 import PPO\n",
        "from stable_baselines3.common.env_util import make_vec_env\n",
        "\n",
        "env = make_vec_env('BipedalWalker-v3', n_envs=4)\n",
        "\n",
        "model = PPO('MlpPolicy', env, verbose=1)\n",
        "\n",
        "print(model.policy)\n"
      ],
      "metadata": {
        "colab": {
          "base_uri": "https://localhost:8080/"
        },
        "id": "eykHoMX7JHfV",
        "outputId": "ed16f2f5-fdaa-4035-b345-2a6bdb214a3c"
      },
      "execution_count": 10,
      "outputs": [
        {
          "output_type": "stream",
          "name": "stdout",
          "text": [
            "Using cuda device\n",
            "ActorCriticPolicy(\n",
            "  (features_extractor): FlattenExtractor(\n",
            "    (flatten): Flatten(start_dim=1, end_dim=-1)\n",
            "  )\n",
            "  (pi_features_extractor): FlattenExtractor(\n",
            "    (flatten): Flatten(start_dim=1, end_dim=-1)\n",
            "  )\n",
            "  (vf_features_extractor): FlattenExtractor(\n",
            "    (flatten): Flatten(start_dim=1, end_dim=-1)\n",
            "  )\n",
            "  (mlp_extractor): MlpExtractor(\n",
            "    (policy_net): Sequential(\n",
            "      (0): Linear(in_features=24, out_features=64, bias=True)\n",
            "      (1): Tanh()\n",
            "      (2): Linear(in_features=64, out_features=64, bias=True)\n",
            "      (3): Tanh()\n",
            "    )\n",
            "    (value_net): Sequential(\n",
            "      (0): Linear(in_features=24, out_features=64, bias=True)\n",
            "      (1): Tanh()\n",
            "      (2): Linear(in_features=64, out_features=64, bias=True)\n",
            "      (3): Tanh()\n",
            "    )\n",
            "  )\n",
            "  (action_net): Linear(in_features=64, out_features=4, bias=True)\n",
            "  (value_net): Linear(in_features=64, out_features=1, bias=True)\n",
            ")\n"
          ]
        }
      ]
    },
    {
      "cell_type": "code",
      "source": [
        "from stable_baselines3.common.callbacks import BaseCallback\n",
        "from tqdm import tqdm\n",
        "\n",
        "class TQDMProgressBarCallback(BaseCallback):\n",
        "    def __init__(self, total_timesteps, verbose=0):\n",
        "        super(TQDMProgressBarCallback, self).__init__(verbose)\n",
        "        self.total_timesteps = total_timesteps\n",
        "        self.pbar = None\n",
        "\n",
        "    def _on_training_start(self):\n",
        "        self.pbar = tqdm(total=self.total_timesteps, desc='Training Progress')\n",
        "\n",
        "    def _on_step(self):\n",
        "        self.pbar.update(1)\n",
        "        return True\n",
        "\n",
        "    def _on_training_end(self):\n",
        "        self.pbar.close()\n"
      ],
      "metadata": {
        "id": "TJ6m0m4oKIqr"
      },
      "execution_count": 13,
      "outputs": []
    },
    {
      "cell_type": "code",
      "source": [
        "total_timesteps = 1000000\n",
        "\n",
        "model = PPO('MlpPolicy', env, verbose=1)\n",
        "\n",
        "callback = TQDMProgressBarCallback(total_timesteps=total_timesteps)\n",
        "\n",
        "model.learn(total_timesteps=total_timesteps, callback=callback)"
      ],
      "metadata": {
        "colab": {
          "base_uri": "https://localhost:8080/"
        },
        "id": "0BS7ME0EJJer",
        "outputId": "e5b41be9-2448-4be5-c958-745d276dd98b"
      },
      "execution_count": 21,
      "outputs": [
        {
          "output_type": "stream",
          "name": "stdout",
          "text": [
            "Using cuda device\n"
          ]
        },
        {
          "output_type": "stream",
          "name": "stderr",
          "text": [
            "Training Progress:   0%|          | 2014/1000000 [00:04<42:23, 392.37it/s]"
          ]
        },
        {
          "output_type": "stream",
          "name": "stdout",
          "text": [
            "---------------------------------\n",
            "| rollout/           |          |\n",
            "|    ep_len_mean     | 410      |\n",
            "|    ep_rew_mean     | -110     |\n",
            "| time/              |          |\n",
            "|    fps             | 1644     |\n",
            "|    iterations      | 1        |\n",
            "|    time_elapsed    | 4        |\n",
            "|    total_timesteps | 8192     |\n",
            "---------------------------------\n"
          ]
        },
        {
          "output_type": "stream",
          "name": "stderr",
          "text": [
            "Training Progress:   0%|          | 4061/1000000 [00:17<39:46, 417.24it/s]"
          ]
        },
        {
          "output_type": "stream",
          "name": "stdout",
          "text": [
            "-----------------------------------------\n",
            "| rollout/                |             |\n",
            "|    ep_len_mean          | 422         |\n",
            "|    ep_rew_mean          | -110        |\n",
            "| time/                   |             |\n",
            "|    fps                  | 948         |\n",
            "|    iterations           | 2           |\n",
            "|    time_elapsed         | 17          |\n",
            "|    total_timesteps      | 16384       |\n",
            "| train/                  |             |\n",
            "|    approx_kl            | 0.006811135 |\n",
            "|    clip_fraction        | 0.0576      |\n",
            "|    clip_range           | 0.2         |\n",
            "|    entropy_loss         | -5.7        |\n",
            "|    explained_variance   | -0.00898    |\n",
            "|    learning_rate        | 0.0003      |\n",
            "|    loss                 | 21.5        |\n",
            "|    n_updates            | 10          |\n",
            "|    policy_gradient_loss | -0.00507    |\n",
            "|    std                  | 1.01        |\n",
            "|    value_loss           | 112         |\n",
            "-----------------------------------------\n"
          ]
        },
        {
          "output_type": "stream",
          "name": "stderr",
          "text": [
            "Training Progress:   1%|          | 6128/1000000 [00:28<38:51, 426.23it/s]"
          ]
        },
        {
          "output_type": "stream",
          "name": "stdout",
          "text": [
            "------------------------------------------\n",
            "| rollout/                |              |\n",
            "|    ep_len_mean          | 455          |\n",
            "|    ep_rew_mean          | -110         |\n",
            "| time/                   |              |\n",
            "|    fps                  | 853          |\n",
            "|    iterations           | 3            |\n",
            "|    time_elapsed         | 28           |\n",
            "|    total_timesteps      | 24576        |\n",
            "| train/                  |              |\n",
            "|    approx_kl            | 0.0071011386 |\n",
            "|    clip_fraction        | 0.0749       |\n",
            "|    clip_range           | 0.2          |\n",
            "|    entropy_loss         | -5.72        |\n",
            "|    explained_variance   | 0.367        |\n",
            "|    learning_rate        | 0.0003       |\n",
            "|    loss                 | 33.9         |\n",
            "|    n_updates            | 20           |\n",
            "|    policy_gradient_loss | -0.0066      |\n",
            "|    std                  | 1.01         |\n",
            "|    value_loss           | 67.3         |\n",
            "------------------------------------------\n"
          ]
        },
        {
          "output_type": "stream",
          "name": "stderr",
          "text": [
            "Training Progress:   1%|          | 8154/1000000 [00:40<38:59, 423.90it/s]"
          ]
        },
        {
          "output_type": "stream",
          "name": "stdout",
          "text": [
            "-----------------------------------------\n",
            "| rollout/                |             |\n",
            "|    ep_len_mean          | 461         |\n",
            "|    ep_rew_mean          | -110        |\n",
            "| time/                   |             |\n",
            "|    fps                  | 813         |\n",
            "|    iterations           | 4           |\n",
            "|    time_elapsed         | 40          |\n",
            "|    total_timesteps      | 32768       |\n",
            "| train/                  |             |\n",
            "|    approx_kl            | 0.009804004 |\n",
            "|    clip_fraction        | 0.118       |\n",
            "|    clip_range           | 0.2         |\n",
            "|    entropy_loss         | -5.71       |\n",
            "|    explained_variance   | 0.638       |\n",
            "|    learning_rate        | 0.0003      |\n",
            "|    loss                 | 30.3        |\n",
            "|    n_updates            | 30          |\n",
            "|    policy_gradient_loss | -0.00375    |\n",
            "|    std                  | 1.01        |\n",
            "|    value_loss           | 32.4        |\n",
            "-----------------------------------------\n"
          ]
        },
        {
          "output_type": "stream",
          "name": "stderr",
          "text": [
            "Training Progress:   1%|          | 10229/1000000 [00:52<39:40, 415.72it/s]"
          ]
        },
        {
          "output_type": "stream",
          "name": "stdout",
          "text": [
            "-----------------------------------------\n",
            "| rollout/                |             |\n",
            "|    ep_len_mean          | 471         |\n",
            "|    ep_rew_mean          | -110        |\n",
            "| time/                   |             |\n",
            "|    fps                  | 777         |\n",
            "|    iterations           | 5           |\n",
            "|    time_elapsed         | 52          |\n",
            "|    total_timesteps      | 40960       |\n",
            "| train/                  |             |\n",
            "|    approx_kl            | 0.009081424 |\n",
            "|    clip_fraction        | 0.0449      |\n",
            "|    clip_range           | 0.2         |\n",
            "|    entropy_loss         | -5.71       |\n",
            "|    explained_variance   | 0.683       |\n",
            "|    learning_rate        | 0.0003      |\n",
            "|    loss                 | 22.1        |\n",
            "|    n_updates            | 40          |\n",
            "|    policy_gradient_loss | -0.00394    |\n",
            "|    std                  | 1.01        |\n",
            "|    value_loss           | 33.3        |\n",
            "-----------------------------------------\n"
          ]
        },
        {
          "output_type": "stream",
          "name": "stderr",
          "text": [
            "Training Progress:   1%|          | 12256/1000000 [01:04<41:03, 401.01it/s]"
          ]
        },
        {
          "output_type": "stream",
          "name": "stdout",
          "text": [
            "-----------------------------------------\n",
            "| rollout/                |             |\n",
            "|    ep_len_mean          | 480         |\n",
            "|    ep_rew_mean          | -110        |\n",
            "| time/                   |             |\n",
            "|    fps                  | 765         |\n",
            "|    iterations           | 6           |\n",
            "|    time_elapsed         | 64          |\n",
            "|    total_timesteps      | 49152       |\n",
            "| train/                  |             |\n",
            "|    approx_kl            | 0.005858605 |\n",
            "|    clip_fraction        | 0.0479      |\n",
            "|    clip_range           | 0.2         |\n",
            "|    entropy_loss         | -5.7        |\n",
            "|    explained_variance   | 0.774       |\n",
            "|    learning_rate        | 0.0003      |\n",
            "|    loss                 | 14.2        |\n",
            "|    n_updates            | 50          |\n",
            "|    policy_gradient_loss | -0.00374    |\n",
            "|    std                  | 1           |\n",
            "|    value_loss           | 27.2        |\n",
            "-----------------------------------------\n"
          ]
        },
        {
          "output_type": "stream",
          "name": "stderr",
          "text": [
            "Training Progress:   1%|▏         | 14323/1000000 [01:16<39:57, 411.05it/s]"
          ]
        },
        {
          "output_type": "stream",
          "name": "stdout",
          "text": [
            "------------------------------------------\n",
            "| rollout/                |              |\n",
            "|    ep_len_mean          | 533          |\n",
            "|    ep_rew_mean          | -110         |\n",
            "| time/                   |              |\n",
            "|    fps                  | 747          |\n",
            "|    iterations           | 7            |\n",
            "|    time_elapsed         | 76           |\n",
            "|    total_timesteps      | 57344        |\n",
            "| train/                  |              |\n",
            "|    approx_kl            | 0.0063782404 |\n",
            "|    clip_fraction        | 0.0549       |\n",
            "|    clip_range           | 0.2          |\n",
            "|    entropy_loss         | -5.68        |\n",
            "|    explained_variance   | 0.835        |\n",
            "|    learning_rate        | 0.0003       |\n",
            "|    loss                 | 12.5         |\n",
            "|    n_updates            | 60           |\n",
            "|    policy_gradient_loss | -0.0044      |\n",
            "|    std                  | 1            |\n",
            "|    value_loss           | 27.5         |\n",
            "------------------------------------------\n"
          ]
        },
        {
          "output_type": "stream",
          "name": "stderr",
          "text": [
            "Training Progress:   2%|▏         | 16358/1000000 [01:28<41:08, 398.46it/s]"
          ]
        },
        {
          "output_type": "stream",
          "name": "stdout",
          "text": [
            "-----------------------------------------\n",
            "| rollout/                |             |\n",
            "|    ep_len_mean          | 565         |\n",
            "|    ep_rew_mean          | -109        |\n",
            "| time/                   |             |\n",
            "|    fps                  | 742         |\n",
            "|    iterations           | 8           |\n",
            "|    time_elapsed         | 88          |\n",
            "|    total_timesteps      | 65536       |\n",
            "| train/                  |             |\n",
            "|    approx_kl            | 0.008273566 |\n",
            "|    clip_fraction        | 0.136       |\n",
            "|    clip_range           | 0.2         |\n",
            "|    entropy_loss         | -5.64       |\n",
            "|    explained_variance   | 0.833       |\n",
            "|    learning_rate        | 0.0003      |\n",
            "|    loss                 | 7.47        |\n",
            "|    n_updates            | 70          |\n",
            "|    policy_gradient_loss | -0.00258    |\n",
            "|    std                  | 0.983       |\n",
            "|    value_loss           | 12.3        |\n",
            "-----------------------------------------\n"
          ]
        },
        {
          "output_type": "stream",
          "name": "stderr",
          "text": [
            "Training Progress:   2%|▏         | 18394/1000000 [01:39<39:09, 417.83it/s]"
          ]
        },
        {
          "output_type": "stream",
          "name": "stdout",
          "text": [
            "-----------------------------------------\n",
            "| rollout/                |             |\n",
            "|    ep_len_mean          | 640         |\n",
            "|    ep_rew_mean          | -108        |\n",
            "| time/                   |             |\n",
            "|    fps                  | 736         |\n",
            "|    iterations           | 9           |\n",
            "|    time_elapsed         | 100         |\n",
            "|    total_timesteps      | 73728       |\n",
            "| train/                  |             |\n",
            "|    approx_kl            | 0.014208401 |\n",
            "|    clip_fraction        | 0.116       |\n",
            "|    clip_range           | 0.2         |\n",
            "|    entropy_loss         | -5.58       |\n",
            "|    explained_variance   | 0.606       |\n",
            "|    learning_rate        | 0.0003      |\n",
            "|    loss                 | 3.38        |\n",
            "|    n_updates            | 80          |\n",
            "|    policy_gradient_loss | -0.0045     |\n",
            "|    std                  | 0.971       |\n",
            "|    value_loss           | 14          |\n",
            "-----------------------------------------\n"
          ]
        },
        {
          "output_type": "stream",
          "name": "stderr",
          "text": [
            "Training Progress:   2%|▏         | 20461/1000000 [01:51<38:42, 421.85it/s]"
          ]
        },
        {
          "output_type": "stream",
          "name": "stdout",
          "text": [
            "------------------------------------------\n",
            "| rollout/                |              |\n",
            "|    ep_len_mean          | 701          |\n",
            "|    ep_rew_mean          | -108         |\n",
            "| time/                   |              |\n",
            "|    fps                  | 732          |\n",
            "|    iterations           | 10           |\n",
            "|    time_elapsed         | 111          |\n",
            "|    total_timesteps      | 81920        |\n",
            "| train/                  |              |\n",
            "|    approx_kl            | 0.0105566885 |\n",
            "|    clip_fraction        | 0.146        |\n",
            "|    clip_range           | 0.2          |\n",
            "|    entropy_loss         | -5.47        |\n",
            "|    explained_variance   | -0.124       |\n",
            "|    learning_rate        | 0.0003       |\n",
            "|    loss                 | 0.302        |\n",
            "|    n_updates            | 90           |\n",
            "|    policy_gradient_loss | -0.00353     |\n",
            "|    std                  | 0.949        |\n",
            "|    value_loss           | 0.224        |\n",
            "------------------------------------------\n"
          ]
        },
        {
          "output_type": "stream",
          "name": "stderr",
          "text": [
            "Training Progress:   2%|▏         | 22518/1000000 [02:03<1:01:48, 263.55it/s]"
          ]
        },
        {
          "output_type": "stream",
          "name": "stdout",
          "text": [
            "-----------------------------------------\n",
            "| rollout/                |             |\n",
            "|    ep_len_mean          | 747         |\n",
            "|    ep_rew_mean          | -107        |\n",
            "| time/                   |             |\n",
            "|    fps                  | 729         |\n",
            "|    iterations           | 11          |\n",
            "|    time_elapsed         | 123         |\n",
            "|    total_timesteps      | 90112       |\n",
            "| train/                  |             |\n",
            "|    approx_kl            | 0.009910469 |\n",
            "|    clip_fraction        | 0.133       |\n",
            "|    clip_range           | 0.2         |\n",
            "|    entropy_loss         | -5.38       |\n",
            "|    explained_variance   | -0.182      |\n",
            "|    learning_rate        | 0.0003      |\n",
            "|    loss                 | -0.00168    |\n",
            "|    n_updates            | 100         |\n",
            "|    policy_gradient_loss | -0.00796    |\n",
            "|    std                  | 0.923       |\n",
            "|    value_loss           | 0.0762      |\n",
            "-----------------------------------------\n"
          ]
        },
        {
          "output_type": "stream",
          "name": "stderr",
          "text": [
            "Training Progress:   2%|▏         | 24553/1000000 [02:14<53:18, 304.97it/s]"
          ]
        },
        {
          "output_type": "stream",
          "name": "stdout",
          "text": [
            "----------------------------------------\n",
            "| rollout/                |            |\n",
            "|    ep_len_mean          | 807        |\n",
            "|    ep_rew_mean          | -105       |\n",
            "| time/                   |            |\n",
            "|    fps                  | 730        |\n",
            "|    iterations           | 12         |\n",
            "|    time_elapsed         | 134        |\n",
            "|    total_timesteps      | 98304      |\n",
            "| train/                  |            |\n",
            "|    approx_kl            | 0.01128952 |\n",
            "|    clip_fraction        | 0.115      |\n",
            "|    clip_range           | 0.2        |\n",
            "|    entropy_loss         | -5.3       |\n",
            "|    explained_variance   | -0.0671    |\n",
            "|    learning_rate        | 0.0003     |\n",
            "|    loss                 | 0.133      |\n",
            "|    n_updates            | 110        |\n",
            "|    policy_gradient_loss | -0.00498   |\n",
            "|    std                  | 0.905      |\n",
            "|    value_loss           | 2.13       |\n",
            "----------------------------------------\n"
          ]
        },
        {
          "output_type": "stream",
          "name": "stderr",
          "text": [
            "Training Progress:   3%|▎         | 26588/1000000 [02:25<39:02, 415.53it/s]"
          ]
        },
        {
          "output_type": "stream",
          "name": "stdout",
          "text": [
            "-----------------------------------------\n",
            "| rollout/                |             |\n",
            "|    ep_len_mean          | 868         |\n",
            "|    ep_rew_mean          | -103        |\n",
            "| time/                   |             |\n",
            "|    fps                  | 731         |\n",
            "|    iterations           | 13          |\n",
            "|    time_elapsed         | 145         |\n",
            "|    total_timesteps      | 106496      |\n",
            "| train/                  |             |\n",
            "|    approx_kl            | 0.008745266 |\n",
            "|    clip_fraction        | 0.111       |\n",
            "|    clip_range           | 0.2         |\n",
            "|    entropy_loss         | -5.25       |\n",
            "|    explained_variance   | 0.0989      |\n",
            "|    learning_rate        | 0.0003      |\n",
            "|    loss                 | 0.0645      |\n",
            "|    n_updates            | 120         |\n",
            "|    policy_gradient_loss | -0.00704    |\n",
            "|    std                  | 0.893       |\n",
            "|    value_loss           | 2.66        |\n",
            "-----------------------------------------\n"
          ]
        },
        {
          "output_type": "stream",
          "name": "stderr",
          "text": [
            "Training Progress:   3%|▎         | 28656/1000000 [02:37<37:56, 426.76it/s]"
          ]
        },
        {
          "output_type": "stream",
          "name": "stdout",
          "text": [
            "----------------------------------------\n",
            "| rollout/                |            |\n",
            "|    ep_len_mean          | 884        |\n",
            "|    ep_rew_mean          | -102       |\n",
            "| time/                   |            |\n",
            "|    fps                  | 729        |\n",
            "|    iterations           | 14         |\n",
            "|    time_elapsed         | 157        |\n",
            "|    total_timesteps      | 114688     |\n",
            "| train/                  |            |\n",
            "|    approx_kl            | 0.00966203 |\n",
            "|    clip_fraction        | 0.136      |\n",
            "|    clip_range           | 0.2        |\n",
            "|    entropy_loss         | -5.18      |\n",
            "|    explained_variance   | 0.492      |\n",
            "|    learning_rate        | 0.0003     |\n",
            "|    loss                 | 0.0577     |\n",
            "|    n_updates            | 130        |\n",
            "|    policy_gradient_loss | -0.00895   |\n",
            "|    std                  | 0.881      |\n",
            "|    value_loss           | 0.13       |\n",
            "----------------------------------------\n"
          ]
        },
        {
          "output_type": "stream",
          "name": "stderr",
          "text": [
            "Training Progress:   3%|▎         | 30714/1000000 [02:48<37:21, 432.36it/s]"
          ]
        },
        {
          "output_type": "stream",
          "name": "stdout",
          "text": [
            "-----------------------------------------\n",
            "| rollout/                |             |\n",
            "|    ep_len_mean          | 960         |\n",
            "|    ep_rew_mean          | -99.2       |\n",
            "| time/                   |             |\n",
            "|    fps                  | 729         |\n",
            "|    iterations           | 15          |\n",
            "|    time_elapsed         | 168         |\n",
            "|    total_timesteps      | 122880      |\n",
            "| train/                  |             |\n",
            "|    approx_kl            | 0.009397926 |\n",
            "|    clip_fraction        | 0.112       |\n",
            "|    clip_range           | 0.2         |\n",
            "|    entropy_loss         | -5.13       |\n",
            "|    explained_variance   | 0.522       |\n",
            "|    learning_rate        | 0.0003      |\n",
            "|    loss                 | 0.0265      |\n",
            "|    n_updates            | 140         |\n",
            "|    policy_gradient_loss | -0.00908    |\n",
            "|    std                  | 0.868       |\n",
            "|    value_loss           | 0.116       |\n",
            "-----------------------------------------\n"
          ]
        },
        {
          "output_type": "stream",
          "name": "stderr",
          "text": [
            "Training Progress:   3%|▎         | 32744/1000000 [02:59<38:29, 418.79it/s]"
          ]
        },
        {
          "output_type": "stream",
          "name": "stdout",
          "text": [
            "-----------------------------------------\n",
            "| rollout/                |             |\n",
            "|    ep_len_mean          | 1.01e+03    |\n",
            "|    ep_rew_mean          | -97         |\n",
            "| time/                   |             |\n",
            "|    fps                  | 727         |\n",
            "|    iterations           | 16          |\n",
            "|    time_elapsed         | 180         |\n",
            "|    total_timesteps      | 131072      |\n",
            "| train/                  |             |\n",
            "|    approx_kl            | 0.010691548 |\n",
            "|    clip_fraction        | 0.128       |\n",
            "|    clip_range           | 0.2         |\n",
            "|    entropy_loss         | -5.04       |\n",
            "|    explained_variance   | 0.668       |\n",
            "|    learning_rate        | 0.0003      |\n",
            "|    loss                 | -0.00607    |\n",
            "|    n_updates            | 150         |\n",
            "|    policy_gradient_loss | -0.01       |\n",
            "|    std                  | 0.849       |\n",
            "|    value_loss           | 0.0979      |\n",
            "-----------------------------------------\n"
          ]
        },
        {
          "output_type": "stream",
          "name": "stderr",
          "text": [
            "Training Progress:   3%|▎         | 34800/1000000 [03:11<38:54, 413.53it/s]"
          ]
        },
        {
          "output_type": "stream",
          "name": "stdout",
          "text": [
            "-----------------------------------------\n",
            "| rollout/                |             |\n",
            "|    ep_len_mean          | 1.07e+03    |\n",
            "|    ep_rew_mean          | -94.8       |\n",
            "| time/                   |             |\n",
            "|    fps                  | 726         |\n",
            "|    iterations           | 17          |\n",
            "|    time_elapsed         | 191         |\n",
            "|    total_timesteps      | 139264      |\n",
            "| train/                  |             |\n",
            "|    approx_kl            | 0.009547373 |\n",
            "|    clip_fraction        | 0.127       |\n",
            "|    clip_range           | 0.2         |\n",
            "|    entropy_loss         | -4.98       |\n",
            "|    explained_variance   | 0.374       |\n",
            "|    learning_rate        | 0.0003      |\n",
            "|    loss                 | 0.0195      |\n",
            "|    n_updates            | 160         |\n",
            "|    policy_gradient_loss | -0.00696    |\n",
            "|    std                  | 0.836       |\n",
            "|    value_loss           | 0.609       |\n",
            "-----------------------------------------\n"
          ]
        },
        {
          "output_type": "stream",
          "name": "stderr",
          "text": [
            "Training Progress:   4%|▎         | 36835/1000000 [03:23<37:25, 428.98it/s]"
          ]
        },
        {
          "output_type": "stream",
          "name": "stdout",
          "text": [
            "----------------------------------------\n",
            "| rollout/                |            |\n",
            "|    ep_len_mean          | 1.1e+03    |\n",
            "|    ep_rew_mean          | -92.7      |\n",
            "| time/                   |            |\n",
            "|    fps                  | 725        |\n",
            "|    iterations           | 18         |\n",
            "|    time_elapsed         | 203        |\n",
            "|    total_timesteps      | 147456     |\n",
            "| train/                  |            |\n",
            "|    approx_kl            | 0.00935615 |\n",
            "|    clip_fraction        | 0.111      |\n",
            "|    clip_range           | 0.2        |\n",
            "|    entropy_loss         | -4.9       |\n",
            "|    explained_variance   | 0.817      |\n",
            "|    learning_rate        | 0.0003     |\n",
            "|    loss                 | 0.0551     |\n",
            "|    n_updates            | 170        |\n",
            "|    policy_gradient_loss | -0.00839   |\n",
            "|    std                  | 0.82       |\n",
            "|    value_loss           | 0.105      |\n",
            "----------------------------------------\n"
          ]
        },
        {
          "output_type": "stream",
          "name": "stderr",
          "text": [
            "Training Progress:   4%|▍         | 38902/1000000 [03:34<37:14, 430.10it/s]"
          ]
        },
        {
          "output_type": "stream",
          "name": "stdout",
          "text": [
            "-----------------------------------------\n",
            "| rollout/                |             |\n",
            "|    ep_len_mean          | 1.19e+03    |\n",
            "|    ep_rew_mean          | -87.3       |\n",
            "| time/                   |             |\n",
            "|    fps                  | 724         |\n",
            "|    iterations           | 19          |\n",
            "|    time_elapsed         | 214         |\n",
            "|    total_timesteps      | 155648      |\n",
            "| train/                  |             |\n",
            "|    approx_kl            | 0.012231296 |\n",
            "|    clip_fraction        | 0.141       |\n",
            "|    clip_range           | 0.2         |\n",
            "|    entropy_loss         | -4.79       |\n",
            "|    explained_variance   | 0.78        |\n",
            "|    learning_rate        | 0.0003      |\n",
            "|    loss                 | 0.0283      |\n",
            "|    n_updates            | 180         |\n",
            "|    policy_gradient_loss | -0.0115     |\n",
            "|    std                  | 0.796       |\n",
            "|    value_loss           | 0.121       |\n",
            "-----------------------------------------\n"
          ]
        },
        {
          "output_type": "stream",
          "name": "stderr",
          "text": [
            "Training Progress:   4%|▍         | 40940/1000000 [03:46<40:55, 390.51it/s]"
          ]
        },
        {
          "output_type": "stream",
          "name": "stdout",
          "text": [
            "-----------------------------------------\n",
            "| rollout/                |             |\n",
            "|    ep_len_mean          | 1.23e+03    |\n",
            "|    ep_rew_mean          | -83.4       |\n",
            "| time/                   |             |\n",
            "|    fps                  | 723         |\n",
            "|    iterations           | 20          |\n",
            "|    time_elapsed         | 226         |\n",
            "|    total_timesteps      | 163840      |\n",
            "| train/                  |             |\n",
            "|    approx_kl            | 0.010223166 |\n",
            "|    clip_fraction        | 0.113       |\n",
            "|    clip_range           | 0.2         |\n",
            "|    entropy_loss         | -4.72       |\n",
            "|    explained_variance   | 0.807       |\n",
            "|    learning_rate        | 0.0003      |\n",
            "|    loss                 | 0.034       |\n",
            "|    n_updates            | 190         |\n",
            "|    policy_gradient_loss | -0.00802    |\n",
            "|    std                  | 0.784       |\n",
            "|    value_loss           | 0.137       |\n",
            "-----------------------------------------\n"
          ]
        },
        {
          "output_type": "stream",
          "name": "stderr",
          "text": [
            "Training Progress:   4%|▍         | 42995/1000000 [03:57<53:31, 297.97it/s]"
          ]
        },
        {
          "output_type": "stream",
          "name": "stdout",
          "text": [
            "-----------------------------------------\n",
            "| rollout/                |             |\n",
            "|    ep_len_mean          | 1.28e+03    |\n",
            "|    ep_rew_mean          | -79.7       |\n",
            "| time/                   |             |\n",
            "|    fps                  | 723         |\n",
            "|    iterations           | 21          |\n",
            "|    time_elapsed         | 237         |\n",
            "|    total_timesteps      | 172032      |\n",
            "| train/                  |             |\n",
            "|    approx_kl            | 0.011263365 |\n",
            "|    clip_fraction        | 0.139       |\n",
            "|    clip_range           | 0.2         |\n",
            "|    entropy_loss         | -4.65       |\n",
            "|    explained_variance   | 0.821       |\n",
            "|    learning_rate        | 0.0003      |\n",
            "|    loss                 | 0.0882      |\n",
            "|    n_updates            | 200         |\n",
            "|    policy_gradient_loss | -0.0101     |\n",
            "|    std                  | 0.769       |\n",
            "|    value_loss           | 0.157       |\n",
            "-----------------------------------------\n"
          ]
        },
        {
          "output_type": "stream",
          "name": "stderr",
          "text": [
            "Training Progress:   5%|▍         | 45033/1000000 [04:08<37:12, 427.80it/s]"
          ]
        },
        {
          "output_type": "stream",
          "name": "stdout",
          "text": [
            "-----------------------------------------\n",
            "| rollout/                |             |\n",
            "|    ep_len_mean          | 1.34e+03    |\n",
            "|    ep_rew_mean          | -74.8       |\n",
            "| time/                   |             |\n",
            "|    fps                  | 724         |\n",
            "|    iterations           | 22          |\n",
            "|    time_elapsed         | 248         |\n",
            "|    total_timesteps      | 180224      |\n",
            "| train/                  |             |\n",
            "|    approx_kl            | 0.012379373 |\n",
            "|    clip_fraction        | 0.142       |\n",
            "|    clip_range           | 0.2         |\n",
            "|    entropy_loss         | -4.57       |\n",
            "|    explained_variance   | 0.849       |\n",
            "|    learning_rate        | 0.0003      |\n",
            "|    loss                 | 0.0547      |\n",
            "|    n_updates            | 210         |\n",
            "|    policy_gradient_loss | -0.0118     |\n",
            "|    std                  | 0.755       |\n",
            "|    value_loss           | 0.152       |\n",
            "-----------------------------------------\n"
          ]
        },
        {
          "output_type": "stream",
          "name": "stderr",
          "text": [
            "Training Progress:   5%|▍         | 47066/1000000 [04:20<35:57, 441.64it/s]"
          ]
        },
        {
          "output_type": "stream",
          "name": "stdout",
          "text": [
            "-----------------------------------------\n",
            "| rollout/                |             |\n",
            "|    ep_len_mean          | 1.4e+03     |\n",
            "|    ep_rew_mean          | -66.8       |\n",
            "| time/                   |             |\n",
            "|    fps                  | 724         |\n",
            "|    iterations           | 23          |\n",
            "|    time_elapsed         | 260         |\n",
            "|    total_timesteps      | 188416      |\n",
            "| train/                  |             |\n",
            "|    approx_kl            | 0.011456436 |\n",
            "|    clip_fraction        | 0.123       |\n",
            "|    clip_range           | 0.2         |\n",
            "|    entropy_loss         | -4.51       |\n",
            "|    explained_variance   | -0.102      |\n",
            "|    learning_rate        | 0.0003      |\n",
            "|    loss                 | 0.169       |\n",
            "|    n_updates            | 220         |\n",
            "|    policy_gradient_loss | -0.00589    |\n",
            "|    std                  | 0.743       |\n",
            "|    value_loss           | 3.82        |\n",
            "-----------------------------------------\n"
          ]
        },
        {
          "output_type": "stream",
          "name": "stderr",
          "text": [
            "Training Progress:   5%|▍         | 49147/1000000 [04:32<36:30, 434.15it/s]"
          ]
        },
        {
          "output_type": "stream",
          "name": "stdout",
          "text": [
            "-----------------------------------------\n",
            "| rollout/                |             |\n",
            "|    ep_len_mean          | 1.43e+03    |\n",
            "|    ep_rew_mean          | -61.6       |\n",
            "| time/                   |             |\n",
            "|    fps                  | 721         |\n",
            "|    iterations           | 24          |\n",
            "|    time_elapsed         | 272         |\n",
            "|    total_timesteps      | 196608      |\n",
            "| train/                  |             |\n",
            "|    approx_kl            | 0.012551054 |\n",
            "|    clip_fraction        | 0.15        |\n",
            "|    clip_range           | 0.2         |\n",
            "|    entropy_loss         | -4.41       |\n",
            "|    explained_variance   | 0.844       |\n",
            "|    learning_rate        | 0.0003      |\n",
            "|    loss                 | 0.0841      |\n",
            "|    n_updates            | 230         |\n",
            "|    policy_gradient_loss | -0.0118     |\n",
            "|    std                  | 0.726       |\n",
            "|    value_loss           | 0.188       |\n",
            "-----------------------------------------\n"
          ]
        },
        {
          "output_type": "stream",
          "name": "stderr",
          "text": [
            "Training Progress:   5%|▌         | 51166/1000000 [04:43<36:40, 431.25it/s]"
          ]
        },
        {
          "output_type": "stream",
          "name": "stdout",
          "text": [
            "----------------------------------------\n",
            "| rollout/                |            |\n",
            "|    ep_len_mean          | 1.46e+03   |\n",
            "|    ep_rew_mean          | -56        |\n",
            "| time/                   |            |\n",
            "|    fps                  | 721        |\n",
            "|    iterations           | 25         |\n",
            "|    time_elapsed         | 284        |\n",
            "|    total_timesteps      | 204800     |\n",
            "| train/                  |            |\n",
            "|    approx_kl            | 0.01121838 |\n",
            "|    clip_fraction        | 0.144      |\n",
            "|    clip_range           | 0.2        |\n",
            "|    entropy_loss         | -4.34      |\n",
            "|    explained_variance   | 0.875      |\n",
            "|    learning_rate        | 0.0003     |\n",
            "|    loss                 | 0.0802     |\n",
            "|    n_updates            | 240        |\n",
            "|    policy_gradient_loss | -0.0107    |\n",
            "|    std                  | 0.714      |\n",
            "|    value_loss           | 0.202      |\n",
            "----------------------------------------\n"
          ]
        },
        {
          "output_type": "stream",
          "name": "stderr",
          "text": [
            "Training Progress:   5%|▌         | 53225/1000000 [04:55<38:07, 413.91it/s]"
          ]
        },
        {
          "output_type": "stream",
          "name": "stdout",
          "text": [
            "-----------------------------------------\n",
            "| rollout/                |             |\n",
            "|    ep_len_mean          | 1.51e+03    |\n",
            "|    ep_rew_mean          | -45.7       |\n",
            "| time/                   |             |\n",
            "|    fps                  | 720         |\n",
            "|    iterations           | 26          |\n",
            "|    time_elapsed         | 295         |\n",
            "|    total_timesteps      | 212992      |\n",
            "| train/                  |             |\n",
            "|    approx_kl            | 0.012505146 |\n",
            "|    clip_fraction        | 0.155       |\n",
            "|    clip_range           | 0.2         |\n",
            "|    entropy_loss         | -4.27       |\n",
            "|    explained_variance   | 0.862       |\n",
            "|    learning_rate        | 0.0003      |\n",
            "|    loss                 | 0.0579      |\n",
            "|    n_updates            | 250         |\n",
            "|    policy_gradient_loss | -0.0119     |\n",
            "|    std                  | 0.701       |\n",
            "|    value_loss           | 0.202       |\n",
            "-----------------------------------------\n"
          ]
        },
        {
          "output_type": "stream",
          "name": "stderr",
          "text": [
            "Training Progress:   6%|▌         | 55271/1000000 [05:07<35:48, 439.71it/s]"
          ]
        },
        {
          "output_type": "stream",
          "name": "stdout",
          "text": [
            "----------------------------------------\n",
            "| rollout/                |            |\n",
            "|    ep_len_mean          | 1.54e+03   |\n",
            "|    ep_rew_mean          | -37.3      |\n",
            "| time/                   |            |\n",
            "|    fps                  | 720        |\n",
            "|    iterations           | 27         |\n",
            "|    time_elapsed         | 307        |\n",
            "|    total_timesteps      | 221184     |\n",
            "| train/                  |            |\n",
            "|    approx_kl            | 0.01179821 |\n",
            "|    clip_fraction        | 0.126      |\n",
            "|    clip_range           | 0.2        |\n",
            "|    entropy_loss         | -4.19      |\n",
            "|    explained_variance   | 0.883      |\n",
            "|    learning_rate        | 0.0003     |\n",
            "|    loss                 | 0.0457     |\n",
            "|    n_updates            | 260        |\n",
            "|    policy_gradient_loss | -0.00722   |\n",
            "|    std                  | 0.686      |\n",
            "|    value_loss           | 0.215      |\n",
            "----------------------------------------\n"
          ]
        },
        {
          "output_type": "stream",
          "name": "stderr",
          "text": [
            "Training Progress:   6%|▌         | 57314/1000000 [05:18<52:15, 300.62it/s]"
          ]
        },
        {
          "output_type": "stream",
          "name": "stdout",
          "text": [
            "-----------------------------------------\n",
            "| rollout/                |             |\n",
            "|    ep_len_mean          | 1.54e+03    |\n",
            "|    ep_rew_mean          | -31.2       |\n",
            "| time/                   |             |\n",
            "|    fps                  | 719         |\n",
            "|    iterations           | 28          |\n",
            "|    time_elapsed         | 318         |\n",
            "|    total_timesteps      | 229376      |\n",
            "| train/                  |             |\n",
            "|    approx_kl            | 0.009552062 |\n",
            "|    clip_fraction        | 0.127       |\n",
            "|    clip_range           | 0.2         |\n",
            "|    entropy_loss         | -4.12       |\n",
            "|    explained_variance   | 0.889       |\n",
            "|    learning_rate        | 0.0003      |\n",
            "|    loss                 | 0.0871      |\n",
            "|    n_updates            | 270         |\n",
            "|    policy_gradient_loss | -0.00746    |\n",
            "|    std                  | 0.675       |\n",
            "|    value_loss           | 0.261       |\n",
            "-----------------------------------------\n"
          ]
        },
        {
          "output_type": "stream",
          "name": "stderr",
          "text": [
            "Training Progress:   6%|▌         | 59389/1000000 [05:29<50:31, 310.29it/s]"
          ]
        },
        {
          "output_type": "stream",
          "name": "stdout",
          "text": [
            "----------------------------------------\n",
            "| rollout/                |            |\n",
            "|    ep_len_mean          | 1.54e+03   |\n",
            "|    ep_rew_mean          | -22.7      |\n",
            "| time/                   |            |\n",
            "|    fps                  | 720        |\n",
            "|    iterations           | 29         |\n",
            "|    time_elapsed         | 329        |\n",
            "|    total_timesteps      | 237568     |\n",
            "| train/                  |            |\n",
            "|    approx_kl            | 0.01104812 |\n",
            "|    clip_fraction        | 0.138      |\n",
            "|    clip_range           | 0.2        |\n",
            "|    entropy_loss         | -4.05      |\n",
            "|    explained_variance   | 0.893      |\n",
            "|    learning_rate        | 0.0003     |\n",
            "|    loss                 | 0.0885     |\n",
            "|    n_updates            | 280        |\n",
            "|    policy_gradient_loss | -0.00648   |\n",
            "|    std                  | 0.664      |\n",
            "|    value_loss           | 0.213      |\n",
            "----------------------------------------\n"
          ]
        },
        {
          "output_type": "stream",
          "name": "stderr",
          "text": [
            "Training Progress:   6%|▌         | 61419/1000000 [05:40<36:33, 427.98it/s]"
          ]
        },
        {
          "output_type": "stream",
          "name": "stdout",
          "text": [
            "------------------------------------------\n",
            "| rollout/                |              |\n",
            "|    ep_len_mean          | 1.54e+03     |\n",
            "|    ep_rew_mean          | -12.1        |\n",
            "| time/                   |              |\n",
            "|    fps                  | 721          |\n",
            "|    iterations           | 30           |\n",
            "|    time_elapsed         | 340          |\n",
            "|    total_timesteps      | 245760       |\n",
            "| train/                  |              |\n",
            "|    approx_kl            | 0.0119559895 |\n",
            "|    clip_fraction        | 0.137        |\n",
            "|    clip_range           | 0.2          |\n",
            "|    entropy_loss         | -3.97        |\n",
            "|    explained_variance   | 0.903        |\n",
            "|    learning_rate        | 0.0003       |\n",
            "|    loss                 | 0.0907       |\n",
            "|    n_updates            | 290          |\n",
            "|    policy_gradient_loss | -0.00676     |\n",
            "|    std                  | 0.651        |\n",
            "|    value_loss           | 0.188        |\n",
            "------------------------------------------\n"
          ]
        },
        {
          "output_type": "stream",
          "name": "stderr",
          "text": [
            "Training Progress:   6%|▋         | 63482/1000000 [05:51<35:50, 435.58it/s]"
          ]
        },
        {
          "output_type": "stream",
          "name": "stdout",
          "text": [
            "-----------------------------------------\n",
            "| rollout/                |             |\n",
            "|    ep_len_mean          | 1.52e+03    |\n",
            "|    ep_rew_mean          | -5.15       |\n",
            "| time/                   |             |\n",
            "|    fps                  | 721         |\n",
            "|    iterations           | 31          |\n",
            "|    time_elapsed         | 352         |\n",
            "|    total_timesteps      | 253952      |\n",
            "| train/                  |             |\n",
            "|    approx_kl            | 0.010687178 |\n",
            "|    clip_fraction        | 0.128       |\n",
            "|    clip_range           | 0.2         |\n",
            "|    entropy_loss         | -3.91       |\n",
            "|    explained_variance   | 0.501       |\n",
            "|    learning_rate        | 0.0003      |\n",
            "|    loss                 | 0.111       |\n",
            "|    n_updates            | 300         |\n",
            "|    policy_gradient_loss | -0.00512    |\n",
            "|    std                  | 0.641       |\n",
            "|    value_loss           | 2.41        |\n",
            "-----------------------------------------\n"
          ]
        },
        {
          "output_type": "stream",
          "name": "stderr",
          "text": [
            "Training Progress:   7%|▋         | 65496/1000000 [06:03<35:11, 442.49it/s]"
          ]
        },
        {
          "output_type": "stream",
          "name": "stdout",
          "text": [
            "-----------------------------------------\n",
            "| rollout/                |             |\n",
            "|    ep_len_mean          | 1.52e+03    |\n",
            "|    ep_rew_mean          | 2.26        |\n",
            "| time/                   |             |\n",
            "|    fps                  | 721         |\n",
            "|    iterations           | 32          |\n",
            "|    time_elapsed         | 363         |\n",
            "|    total_timesteps      | 262144      |\n",
            "| train/                  |             |\n",
            "|    approx_kl            | 0.010665138 |\n",
            "|    clip_fraction        | 0.0965      |\n",
            "|    clip_range           | 0.2         |\n",
            "|    entropy_loss         | -3.89       |\n",
            "|    explained_variance   | 0.874       |\n",
            "|    learning_rate        | 0.0003      |\n",
            "|    loss                 | 0.764       |\n",
            "|    n_updates            | 310         |\n",
            "|    policy_gradient_loss | -0.00187    |\n",
            "|    std                  | 0.641       |\n",
            "|    value_loss           | 6.1         |\n",
            "-----------------------------------------\n"
          ]
        },
        {
          "output_type": "stream",
          "name": "stderr",
          "text": [
            "Training Progress:   7%|▋         | 67548/1000000 [06:14<35:48, 434.04it/s]"
          ]
        },
        {
          "output_type": "stream",
          "name": "stdout",
          "text": [
            "-----------------------------------------\n",
            "| rollout/                |             |\n",
            "|    ep_len_mean          | 1.51e+03    |\n",
            "|    ep_rew_mean          | 13.7        |\n",
            "| time/                   |             |\n",
            "|    fps                  | 721         |\n",
            "|    iterations           | 33          |\n",
            "|    time_elapsed         | 374         |\n",
            "|    total_timesteps      | 270336      |\n",
            "| train/                  |             |\n",
            "|    approx_kl            | 0.013907958 |\n",
            "|    clip_fraction        | 0.159       |\n",
            "|    clip_range           | 0.2         |\n",
            "|    entropy_loss         | -3.84       |\n",
            "|    explained_variance   | 0.804       |\n",
            "|    learning_rate        | 0.0003      |\n",
            "|    loss                 | 0.143       |\n",
            "|    n_updates            | 320         |\n",
            "|    policy_gradient_loss | -0.00336    |\n",
            "|    std                  | 0.632       |\n",
            "|    value_loss           | 0.255       |\n",
            "-----------------------------------------\n"
          ]
        },
        {
          "output_type": "stream",
          "name": "stderr",
          "text": [
            "Training Progress:   7%|▋         | 69613/1000000 [06:26<36:09, 428.83it/s]"
          ]
        },
        {
          "output_type": "stream",
          "name": "stdout",
          "text": [
            "-----------------------------------------\n",
            "| rollout/                |             |\n",
            "|    ep_len_mean          | 1.51e+03    |\n",
            "|    ep_rew_mean          | 22.2        |\n",
            "| time/                   |             |\n",
            "|    fps                  | 721         |\n",
            "|    iterations           | 34          |\n",
            "|    time_elapsed         | 386         |\n",
            "|    total_timesteps      | 278528      |\n",
            "| train/                  |             |\n",
            "|    approx_kl            | 0.011547072 |\n",
            "|    clip_fraction        | 0.128       |\n",
            "|    clip_range           | 0.2         |\n",
            "|    entropy_loss         | -3.8        |\n",
            "|    explained_variance   | 0.897       |\n",
            "|    learning_rate        | 0.0003      |\n",
            "|    loss                 | 0.0521      |\n",
            "|    n_updates            | 330         |\n",
            "|    policy_gradient_loss | -0.00592    |\n",
            "|    std                  | 0.625       |\n",
            "|    value_loss           | 0.592       |\n",
            "-----------------------------------------\n"
          ]
        },
        {
          "output_type": "stream",
          "name": "stderr",
          "text": [
            "Training Progress:   7%|▋         | 71678/1000000 [06:38<1:08:07, 227.13it/s]"
          ]
        },
        {
          "output_type": "stream",
          "name": "stdout",
          "text": [
            "-----------------------------------------\n",
            "| rollout/                |             |\n",
            "|    ep_len_mean          | 1.52e+03    |\n",
            "|    ep_rew_mean          | 29.4        |\n",
            "| time/                   |             |\n",
            "|    fps                  | 718         |\n",
            "|    iterations           | 35          |\n",
            "|    time_elapsed         | 398         |\n",
            "|    total_timesteps      | 286720      |\n",
            "| train/                  |             |\n",
            "|    approx_kl            | 0.012693569 |\n",
            "|    clip_fraction        | 0.157       |\n",
            "|    clip_range           | 0.2         |\n",
            "|    entropy_loss         | -3.72       |\n",
            "|    explained_variance   | 0.904       |\n",
            "|    learning_rate        | 0.0003      |\n",
            "|    loss                 | 0.11        |\n",
            "|    n_updates            | 340         |\n",
            "|    policy_gradient_loss | -0.00576    |\n",
            "|    std                  | 0.614       |\n",
            "|    value_loss           | 0.185       |\n",
            "-----------------------------------------\n"
          ]
        },
        {
          "output_type": "stream",
          "name": "stderr",
          "text": [
            "Training Progress:   7%|▋         | 73685/1000000 [06:50<37:49, 408.11it/s]"
          ]
        },
        {
          "output_type": "stream",
          "name": "stdout",
          "text": [
            "-----------------------------------------\n",
            "| rollout/                |             |\n",
            "|    ep_len_mean          | 1.5e+03     |\n",
            "|    ep_rew_mean          | 37.4        |\n",
            "| time/                   |             |\n",
            "|    fps                  | 718         |\n",
            "|    iterations           | 36          |\n",
            "|    time_elapsed         | 410         |\n",
            "|    total_timesteps      | 294912      |\n",
            "| train/                  |             |\n",
            "|    approx_kl            | 0.012414013 |\n",
            "|    clip_fraction        | 0.136       |\n",
            "|    clip_range           | 0.2         |\n",
            "|    entropy_loss         | -3.66       |\n",
            "|    explained_variance   | 0.909       |\n",
            "|    learning_rate        | 0.0003      |\n",
            "|    loss                 | 0.0668      |\n",
            "|    n_updates            | 350         |\n",
            "|    policy_gradient_loss | -0.0056     |\n",
            "|    std                  | 0.604       |\n",
            "|    value_loss           | 0.203       |\n",
            "-----------------------------------------\n"
          ]
        },
        {
          "output_type": "stream",
          "name": "stderr",
          "text": [
            "Training Progress:   8%|▊         | 75759/1000000 [07:01<53:22, 288.59it/s]"
          ]
        },
        {
          "output_type": "stream",
          "name": "stdout",
          "text": [
            "-----------------------------------------\n",
            "| rollout/                |             |\n",
            "|    ep_len_mean          | 1.5e+03     |\n",
            "|    ep_rew_mean          | 45.1        |\n",
            "| time/                   |             |\n",
            "|    fps                  | 718         |\n",
            "|    iterations           | 37          |\n",
            "|    time_elapsed         | 421         |\n",
            "|    total_timesteps      | 303104      |\n",
            "| train/                  |             |\n",
            "|    approx_kl            | 0.011225609 |\n",
            "|    clip_fraction        | 0.135       |\n",
            "|    clip_range           | 0.2         |\n",
            "|    entropy_loss         | -3.61       |\n",
            "|    explained_variance   | 0.841       |\n",
            "|    learning_rate        | 0.0003      |\n",
            "|    loss                 | 0.253       |\n",
            "|    n_updates            | 360         |\n",
            "|    policy_gradient_loss | -0.00523    |\n",
            "|    std                  | 0.597       |\n",
            "|    value_loss           | 2.57        |\n",
            "-----------------------------------------\n"
          ]
        },
        {
          "output_type": "stream",
          "name": "stderr",
          "text": [
            "Training Progress:   8%|▊         | 77794/1000000 [07:12<42:21, 362.83it/s]"
          ]
        },
        {
          "output_type": "stream",
          "name": "stdout",
          "text": [
            "-----------------------------------------\n",
            "| rollout/                |             |\n",
            "|    ep_len_mean          | 1.5e+03     |\n",
            "|    ep_rew_mean          | 51.1        |\n",
            "| time/                   |             |\n",
            "|    fps                  | 719         |\n",
            "|    iterations           | 38          |\n",
            "|    time_elapsed         | 432         |\n",
            "|    total_timesteps      | 311296      |\n",
            "| train/                  |             |\n",
            "|    approx_kl            | 0.012387356 |\n",
            "|    clip_fraction        | 0.165       |\n",
            "|    clip_range           | 0.2         |\n",
            "|    entropy_loss         | -3.57       |\n",
            "|    explained_variance   | 0.708       |\n",
            "|    learning_rate        | 0.0003      |\n",
            "|    loss                 | 0.143       |\n",
            "|    n_updates            | 370         |\n",
            "|    policy_gradient_loss | -0.00339    |\n",
            "|    std                  | 0.592       |\n",
            "|    value_loss           | 0.339       |\n",
            "-----------------------------------------\n"
          ]
        },
        {
          "output_type": "stream",
          "name": "stderr",
          "text": [
            "Training Progress:   8%|▊         | 79868/1000000 [07:23<35:52, 427.39it/s]"
          ]
        },
        {
          "output_type": "stream",
          "name": "stdout",
          "text": [
            "-----------------------------------------\n",
            "| rollout/                |             |\n",
            "|    ep_len_mean          | 1.48e+03    |\n",
            "|    ep_rew_mean          | 56.7        |\n",
            "| time/                   |             |\n",
            "|    fps                  | 719         |\n",
            "|    iterations           | 39          |\n",
            "|    time_elapsed         | 444         |\n",
            "|    total_timesteps      | 319488      |\n",
            "| train/                  |             |\n",
            "|    approx_kl            | 0.013513748 |\n",
            "|    clip_fraction        | 0.163       |\n",
            "|    clip_range           | 0.2         |\n",
            "|    entropy_loss         | -3.54       |\n",
            "|    explained_variance   | 0.916       |\n",
            "|    learning_rate        | 0.0003      |\n",
            "|    loss                 | 0.123       |\n",
            "|    n_updates            | 380         |\n",
            "|    policy_gradient_loss | -0.00463    |\n",
            "|    std                  | 0.589       |\n",
            "|    value_loss           | 0.748       |\n",
            "-----------------------------------------\n"
          ]
        },
        {
          "output_type": "stream",
          "name": "stderr",
          "text": [
            "Training Progress:   8%|▊         | 81878/1000000 [07:35<35:00, 437.01it/s]"
          ]
        },
        {
          "output_type": "stream",
          "name": "stdout",
          "text": [
            "-----------------------------------------\n",
            "| rollout/                |             |\n",
            "|    ep_len_mean          | 1.44e+03    |\n",
            "|    ep_rew_mean          | 60.1        |\n",
            "| time/                   |             |\n",
            "|    fps                  | 719         |\n",
            "|    iterations           | 40          |\n",
            "|    time_elapsed         | 455         |\n",
            "|    total_timesteps      | 327680      |\n",
            "| train/                  |             |\n",
            "|    approx_kl            | 0.012571307 |\n",
            "|    clip_fraction        | 0.153       |\n",
            "|    clip_range           | 0.2         |\n",
            "|    entropy_loss         | -3.52       |\n",
            "|    explained_variance   | 0.854       |\n",
            "|    learning_rate        | 0.0003      |\n",
            "|    loss                 | 3.49        |\n",
            "|    n_updates            | 390         |\n",
            "|    policy_gradient_loss | -0.00366    |\n",
            "|    std                  | 0.585       |\n",
            "|    value_loss           | 5.08        |\n",
            "-----------------------------------------\n"
          ]
        },
        {
          "output_type": "stream",
          "name": "stderr",
          "text": [
            "Training Progress:   8%|▊         | 83962/1000000 [07:46<37:06, 411.35it/s]"
          ]
        },
        {
          "output_type": "stream",
          "name": "stdout",
          "text": [
            "-----------------------------------------\n",
            "| rollout/                |             |\n",
            "|    ep_len_mean          | 1.38e+03    |\n",
            "|    ep_rew_mean          | 60.3        |\n",
            "| time/                   |             |\n",
            "|    fps                  | 719         |\n",
            "|    iterations           | 41          |\n",
            "|    time_elapsed         | 466         |\n",
            "|    total_timesteps      | 335872      |\n",
            "| train/                  |             |\n",
            "|    approx_kl            | 0.010968659 |\n",
            "|    clip_fraction        | 0.116       |\n",
            "|    clip_range           | 0.2         |\n",
            "|    entropy_loss         | -3.5        |\n",
            "|    explained_variance   | 0.892       |\n",
            "|    learning_rate        | 0.0003      |\n",
            "|    loss                 | 1.09        |\n",
            "|    n_updates            | 400         |\n",
            "|    policy_gradient_loss | -0.00235    |\n",
            "|    std                  | 0.581       |\n",
            "|    value_loss           | 12          |\n",
            "-----------------------------------------\n"
          ]
        },
        {
          "output_type": "stream",
          "name": "stderr",
          "text": [
            "Training Progress:   9%|▊         | 86004/1000000 [07:58<36:02, 422.66it/s]"
          ]
        },
        {
          "output_type": "stream",
          "name": "stdout",
          "text": [
            "------------------------------------------\n",
            "| rollout/                |              |\n",
            "|    ep_len_mean          | 1.36e+03     |\n",
            "|    ep_rew_mean          | 61.8         |\n",
            "| time/                   |              |\n",
            "|    fps                  | 719          |\n",
            "|    iterations           | 42           |\n",
            "|    time_elapsed         | 478          |\n",
            "|    total_timesteps      | 344064       |\n",
            "| train/                  |              |\n",
            "|    approx_kl            | 0.0140076205 |\n",
            "|    clip_fraction        | 0.148        |\n",
            "|    clip_range           | 0.2          |\n",
            "|    entropy_loss         | -3.47        |\n",
            "|    explained_variance   | 0.846        |\n",
            "|    learning_rate        | 0.0003       |\n",
            "|    loss                 | 0.681        |\n",
            "|    n_updates            | 410          |\n",
            "|    policy_gradient_loss | -0.00317     |\n",
            "|    std                  | 0.579        |\n",
            "|    value_loss           | 14.9         |\n",
            "------------------------------------------\n"
          ]
        },
        {
          "output_type": "stream",
          "name": "stderr",
          "text": [
            "Training Progress:   9%|▉         | 88047/1000000 [08:10<35:02, 433.76it/s]"
          ]
        },
        {
          "output_type": "stream",
          "name": "stdout",
          "text": [
            "-----------------------------------------\n",
            "| rollout/                |             |\n",
            "|    ep_len_mean          | 1.36e+03    |\n",
            "|    ep_rew_mean          | 63.9        |\n",
            "| time/                   |             |\n",
            "|    fps                  | 717         |\n",
            "|    iterations           | 43          |\n",
            "|    time_elapsed         | 490         |\n",
            "|    total_timesteps      | 352256      |\n",
            "| train/                  |             |\n",
            "|    approx_kl            | 0.018989518 |\n",
            "|    clip_fraction        | 0.207       |\n",
            "|    clip_range           | 0.2         |\n",
            "|    entropy_loss         | -3.43       |\n",
            "|    explained_variance   | 0.867       |\n",
            "|    learning_rate        | 0.0003      |\n",
            "|    loss                 | 5.7         |\n",
            "|    n_updates            | 420         |\n",
            "|    policy_gradient_loss | -0.00101    |\n",
            "|    std                  | 0.57        |\n",
            "|    value_loss           | 7.06        |\n",
            "-----------------------------------------\n"
          ]
        },
        {
          "output_type": "stream",
          "name": "stderr",
          "text": [
            "Training Progress:   9%|▉         | 90102/1000000 [08:22<36:19, 417.48it/s]"
          ]
        },
        {
          "output_type": "stream",
          "name": "stdout",
          "text": [
            "-----------------------------------------\n",
            "| rollout/                |             |\n",
            "|    ep_len_mean          | 1.36e+03    |\n",
            "|    ep_rew_mean          | 67          |\n",
            "| time/                   |             |\n",
            "|    fps                  | 717         |\n",
            "|    iterations           | 44          |\n",
            "|    time_elapsed         | 502         |\n",
            "|    total_timesteps      | 360448      |\n",
            "| train/                  |             |\n",
            "|    approx_kl            | 0.015509047 |\n",
            "|    clip_fraction        | 0.212       |\n",
            "|    clip_range           | 0.2         |\n",
            "|    entropy_loss         | -3.37       |\n",
            "|    explained_variance   | 0.908       |\n",
            "|    learning_rate        | 0.0003      |\n",
            "|    loss                 | 0.305       |\n",
            "|    n_updates            | 430         |\n",
            "|    policy_gradient_loss | -0.00354    |\n",
            "|    std                  | 0.564       |\n",
            "|    value_loss           | 2.77        |\n",
            "-----------------------------------------\n"
          ]
        },
        {
          "output_type": "stream",
          "name": "stderr",
          "text": [
            "Training Progress:   9%|▉         | 92131/1000000 [08:33<50:42, 298.42it/s]"
          ]
        },
        {
          "output_type": "stream",
          "name": "stdout",
          "text": [
            "-----------------------------------------\n",
            "| rollout/                |             |\n",
            "|    ep_len_mean          | 1.36e+03    |\n",
            "|    ep_rew_mean          | 70.4        |\n",
            "| time/                   |             |\n",
            "|    fps                  | 718         |\n",
            "|    iterations           | 45          |\n",
            "|    time_elapsed         | 513         |\n",
            "|    total_timesteps      | 368640      |\n",
            "| train/                  |             |\n",
            "|    approx_kl            | 0.013963704 |\n",
            "|    clip_fraction        | 0.174       |\n",
            "|    clip_range           | 0.2         |\n",
            "|    entropy_loss         | -3.32       |\n",
            "|    explained_variance   | 0.699       |\n",
            "|    learning_rate        | 0.0003      |\n",
            "|    loss                 | 0.418       |\n",
            "|    n_updates            | 440         |\n",
            "|    policy_gradient_loss | -0.00294    |\n",
            "|    std                  | 0.556       |\n",
            "|    value_loss           | 0.681       |\n",
            "-----------------------------------------\n"
          ]
        },
        {
          "output_type": "stream",
          "name": "stderr",
          "text": [
            "Training Progress:   9%|▉         | 94167/1000000 [08:44<34:27, 438.09it/s]"
          ]
        },
        {
          "output_type": "stream",
          "name": "stdout",
          "text": [
            "----------------------------------------\n",
            "| rollout/                |            |\n",
            "|    ep_len_mean          | 1.35e+03   |\n",
            "|    ep_rew_mean          | 71         |\n",
            "| time/                   |            |\n",
            "|    fps                  | 718        |\n",
            "|    iterations           | 46         |\n",
            "|    time_elapsed         | 524        |\n",
            "|    total_timesteps      | 376832     |\n",
            "| train/                  |            |\n",
            "|    approx_kl            | 0.01396863 |\n",
            "|    clip_fraction        | 0.192      |\n",
            "|    clip_range           | 0.2        |\n",
            "|    entropy_loss         | -3.23      |\n",
            "|    explained_variance   | 0.761      |\n",
            "|    learning_rate        | 0.0003     |\n",
            "|    loss                 | 0.115      |\n",
            "|    n_updates            | 450        |\n",
            "|    policy_gradient_loss | -0.00695   |\n",
            "|    std                  | 0.542      |\n",
            "|    value_loss           | 0.31       |\n",
            "----------------------------------------\n"
          ]
        },
        {
          "output_type": "stream",
          "name": "stderr",
          "text": [
            "Training Progress:  10%|▉         | 96237/1000000 [08:55<34:18, 439.04it/s]"
          ]
        },
        {
          "output_type": "stream",
          "name": "stdout",
          "text": [
            "-----------------------------------------\n",
            "| rollout/                |             |\n",
            "|    ep_len_mean          | 1.34e+03    |\n",
            "|    ep_rew_mean          | 72.1        |\n",
            "| time/                   |             |\n",
            "|    fps                  | 718         |\n",
            "|    iterations           | 47          |\n",
            "|    time_elapsed         | 535         |\n",
            "|    total_timesteps      | 385024      |\n",
            "| train/                  |             |\n",
            "|    approx_kl            | 0.013638339 |\n",
            "|    clip_fraction        | 0.175       |\n",
            "|    clip_range           | 0.2         |\n",
            "|    entropy_loss         | -3.19       |\n",
            "|    explained_variance   | 0.936       |\n",
            "|    learning_rate        | 0.0003      |\n",
            "|    loss                 | 0.0923      |\n",
            "|    n_updates            | 460         |\n",
            "|    policy_gradient_loss | -0.00491    |\n",
            "|    std                  | 0.538       |\n",
            "|    value_loss           | 1.23        |\n",
            "-----------------------------------------\n"
          ]
        },
        {
          "output_type": "stream",
          "name": "stderr",
          "text": [
            "Training Progress:  10%|▉         | 98301/1000000 [09:07<34:51, 431.04it/s]"
          ]
        },
        {
          "output_type": "stream",
          "name": "stdout",
          "text": [
            "-----------------------------------------\n",
            "| rollout/                |             |\n",
            "|    ep_len_mean          | 1.31e+03    |\n",
            "|    ep_rew_mean          | 70.5        |\n",
            "| time/                   |             |\n",
            "|    fps                  | 718         |\n",
            "|    iterations           | 48          |\n",
            "|    time_elapsed         | 547         |\n",
            "|    total_timesteps      | 393216      |\n",
            "| train/                  |             |\n",
            "|    approx_kl            | 0.014087413 |\n",
            "|    clip_fraction        | 0.15        |\n",
            "|    clip_range           | 0.2         |\n",
            "|    entropy_loss         | -3.17       |\n",
            "|    explained_variance   | 0.948       |\n",
            "|    learning_rate        | 0.0003      |\n",
            "|    loss                 | 0.156       |\n",
            "|    n_updates            | 470         |\n",
            "|    policy_gradient_loss | -0.00244    |\n",
            "|    std                  | 0.535       |\n",
            "|    value_loss           | 5.06        |\n",
            "-----------------------------------------\n"
          ]
        },
        {
          "output_type": "stream",
          "name": "stderr",
          "text": [
            "Training Progress:  10%|█         | 100344/1000000 [09:18<36:39, 408.94it/s]"
          ]
        },
        {
          "output_type": "stream",
          "name": "stdout",
          "text": [
            "----------------------------------------\n",
            "| rollout/                |            |\n",
            "|    ep_len_mean          | 1.3e+03    |\n",
            "|    ep_rew_mean          | 71.2       |\n",
            "| time/                   |            |\n",
            "|    fps                  | 718        |\n",
            "|    iterations           | 49         |\n",
            "|    time_elapsed         | 558        |\n",
            "|    total_timesteps      | 401408     |\n",
            "| train/                  |            |\n",
            "|    approx_kl            | 0.01077004 |\n",
            "|    clip_fraction        | 0.146      |\n",
            "|    clip_range           | 0.2        |\n",
            "|    entropy_loss         | -3.14      |\n",
            "|    explained_variance   | 0.926      |\n",
            "|    learning_rate        | 0.0003     |\n",
            "|    loss                 | 1.46       |\n",
            "|    n_updates            | 480        |\n",
            "|    policy_gradient_loss | -0.000756  |\n",
            "|    std                  | 0.532      |\n",
            "|    value_loss           | 7.43       |\n",
            "----------------------------------------\n"
          ]
        },
        {
          "output_type": "stream",
          "name": "stderr",
          "text": [
            "Training Progress:  10%|█         | 102387/1000000 [09:29<34:59, 427.48it/s]"
          ]
        },
        {
          "output_type": "stream",
          "name": "stdout",
          "text": [
            "-----------------------------------------\n",
            "| rollout/                |             |\n",
            "|    ep_len_mean          | 1.3e+03     |\n",
            "|    ep_rew_mean          | 72.9        |\n",
            "| time/                   |             |\n",
            "|    fps                  | 718         |\n",
            "|    iterations           | 50          |\n",
            "|    time_elapsed         | 569         |\n",
            "|    total_timesteps      | 409600      |\n",
            "| train/                  |             |\n",
            "|    approx_kl            | 0.015575485 |\n",
            "|    clip_fraction        | 0.164       |\n",
            "|    clip_range           | 0.2         |\n",
            "|    entropy_loss         | -3.11       |\n",
            "|    explained_variance   | 0.925       |\n",
            "|    learning_rate        | 0.0003      |\n",
            "|    loss                 | 1.1         |\n",
            "|    n_updates            | 490         |\n",
            "|    policy_gradient_loss | -0.00388    |\n",
            "|    std                  | 0.528       |\n",
            "|    value_loss           | 8.29        |\n",
            "-----------------------------------------\n"
          ]
        },
        {
          "output_type": "stream",
          "name": "stderr",
          "text": [
            "Training Progress:  10%|█         | 104427/1000000 [09:41<33:47, 441.80it/s]"
          ]
        },
        {
          "output_type": "stream",
          "name": "stdout",
          "text": [
            "-----------------------------------------\n",
            "| rollout/                |             |\n",
            "|    ep_len_mean          | 1.3e+03     |\n",
            "|    ep_rew_mean          | 73.6        |\n",
            "| time/                   |             |\n",
            "|    fps                  | 718         |\n",
            "|    iterations           | 51          |\n",
            "|    time_elapsed         | 581         |\n",
            "|    total_timesteps      | 417792      |\n",
            "| train/                  |             |\n",
            "|    approx_kl            | 0.014221617 |\n",
            "|    clip_fraction        | 0.236       |\n",
            "|    clip_range           | 0.2         |\n",
            "|    entropy_loss         | -3.06       |\n",
            "|    explained_variance   | 0.471       |\n",
            "|    learning_rate        | 0.0003      |\n",
            "|    loss                 | 0.302       |\n",
            "|    n_updates            | 500         |\n",
            "|    policy_gradient_loss | -0.00313    |\n",
            "|    std                  | 0.521       |\n",
            "|    value_loss           | 0.713       |\n",
            "-----------------------------------------\n"
          ]
        },
        {
          "output_type": "stream",
          "name": "stderr",
          "text": [
            "Training Progress:  11%|█         | 106489/1000000 [09:52<34:32, 431.18it/s]"
          ]
        },
        {
          "output_type": "stream",
          "name": "stdout",
          "text": [
            "-----------------------------------------\n",
            "| rollout/                |             |\n",
            "|    ep_len_mean          | 1.29e+03    |\n",
            "|    ep_rew_mean          | 73          |\n",
            "| time/                   |             |\n",
            "|    fps                  | 718         |\n",
            "|    iterations           | 52          |\n",
            "|    time_elapsed         | 592         |\n",
            "|    total_timesteps      | 425984      |\n",
            "| train/                  |             |\n",
            "|    approx_kl            | 0.015340621 |\n",
            "|    clip_fraction        | 0.189       |\n",
            "|    clip_range           | 0.2         |\n",
            "|    entropy_loss         | -3.04       |\n",
            "|    explained_variance   | 0.951       |\n",
            "|    learning_rate        | 0.0003      |\n",
            "|    loss                 | 2.29        |\n",
            "|    n_updates            | 510         |\n",
            "|    policy_gradient_loss | -0.00112    |\n",
            "|    std                  | 0.519       |\n",
            "|    value_loss           | 1.99        |\n",
            "-----------------------------------------\n"
          ]
        },
        {
          "output_type": "stream",
          "name": "stderr",
          "text": [
            "Training Progress:  11%|█         | 108524/1000000 [10:03<51:46, 287.00it/s]"
          ]
        },
        {
          "output_type": "stream",
          "name": "stdout",
          "text": [
            "-----------------------------------------\n",
            "| rollout/                |             |\n",
            "|    ep_len_mean          | 1.29e+03    |\n",
            "|    ep_rew_mean          | 75.2        |\n",
            "| time/                   |             |\n",
            "|    fps                  | 718         |\n",
            "|    iterations           | 53          |\n",
            "|    time_elapsed         | 604         |\n",
            "|    total_timesteps      | 434176      |\n",
            "| train/                  |             |\n",
            "|    approx_kl            | 0.011861544 |\n",
            "|    clip_fraction        | 0.128       |\n",
            "|    clip_range           | 0.2         |\n",
            "|    entropy_loss         | -3.03       |\n",
            "|    explained_variance   | 0.945       |\n",
            "|    learning_rate        | 0.0003      |\n",
            "|    loss                 | 0.361       |\n",
            "|    n_updates            | 520         |\n",
            "|    policy_gradient_loss | -0.00279    |\n",
            "|    std                  | 0.52        |\n",
            "|    value_loss           | 5.83        |\n",
            "-----------------------------------------\n"
          ]
        },
        {
          "output_type": "stream",
          "name": "stderr",
          "text": [
            "Training Progress:  11%|█         | 110564/1000000 [10:14<33:51, 437.74it/s]"
          ]
        },
        {
          "output_type": "stream",
          "name": "stdout",
          "text": [
            "-----------------------------------------\n",
            "| rollout/                |             |\n",
            "|    ep_len_mean          | 1.26e+03    |\n",
            "|    ep_rew_mean          | 73          |\n",
            "| time/                   |             |\n",
            "|    fps                  | 719         |\n",
            "|    iterations           | 54          |\n",
            "|    time_elapsed         | 614         |\n",
            "|    total_timesteps      | 442368      |\n",
            "| train/                  |             |\n",
            "|    approx_kl            | 0.014429959 |\n",
            "|    clip_fraction        | 0.206       |\n",
            "|    clip_range           | 0.2         |\n",
            "|    entropy_loss         | -2.97       |\n",
            "|    explained_variance   | 0.765       |\n",
            "|    learning_rate        | 0.0003      |\n",
            "|    loss                 | 0.0952      |\n",
            "|    n_updates            | 530         |\n",
            "|    policy_gradient_loss | -0.00423    |\n",
            "|    std                  | 0.51        |\n",
            "|    value_loss           | 0.379       |\n",
            "-----------------------------------------\n"
          ]
        },
        {
          "output_type": "stream",
          "name": "stderr",
          "text": [
            "Training Progress:  11%|█▏        | 112629/1000000 [10:26<33:38, 439.71it/s]"
          ]
        },
        {
          "output_type": "stream",
          "name": "stdout",
          "text": [
            "-----------------------------------------\n",
            "| rollout/                |             |\n",
            "|    ep_len_mean          | 1.3e+03     |\n",
            "|    ep_rew_mean          | 81.8        |\n",
            "| time/                   |             |\n",
            "|    fps                  | 719         |\n",
            "|    iterations           | 55          |\n",
            "|    time_elapsed         | 626         |\n",
            "|    total_timesteps      | 450560      |\n",
            "| train/                  |             |\n",
            "|    approx_kl            | 0.012359627 |\n",
            "|    clip_fraction        | 0.133       |\n",
            "|    clip_range           | 0.2         |\n",
            "|    entropy_loss         | -2.97       |\n",
            "|    explained_variance   | 0.922       |\n",
            "|    learning_rate        | 0.0003      |\n",
            "|    loss                 | 2.67        |\n",
            "|    n_updates            | 540         |\n",
            "|    policy_gradient_loss | -0.00285    |\n",
            "|    std                  | 0.51        |\n",
            "|    value_loss           | 5.12        |\n",
            "-----------------------------------------\n"
          ]
        },
        {
          "output_type": "stream",
          "name": "stderr",
          "text": [
            "Training Progress:  11%|█▏        | 114659/1000000 [10:37<34:06, 432.64it/s]"
          ]
        },
        {
          "output_type": "stream",
          "name": "stdout",
          "text": [
            "-----------------------------------------\n",
            "| rollout/                |             |\n",
            "|    ep_len_mean          | 1.31e+03    |\n",
            "|    ep_rew_mean          | 84.9        |\n",
            "| time/                   |             |\n",
            "|    fps                  | 719         |\n",
            "|    iterations           | 56          |\n",
            "|    time_elapsed         | 637         |\n",
            "|    total_timesteps      | 458752      |\n",
            "| train/                  |             |\n",
            "|    approx_kl            | 0.017651055 |\n",
            "|    clip_fraction        | 0.218       |\n",
            "|    clip_range           | 0.2         |\n",
            "|    entropy_loss         | -2.94       |\n",
            "|    explained_variance   | 0.267       |\n",
            "|    learning_rate        | 0.0003      |\n",
            "|    loss                 | 0.142       |\n",
            "|    n_updates            | 550         |\n",
            "|    policy_gradient_loss | -0.00409    |\n",
            "|    std                  | 0.507       |\n",
            "|    value_loss           | 1.6         |\n",
            "-----------------------------------------\n"
          ]
        },
        {
          "output_type": "stream",
          "name": "stderr",
          "text": [
            "Training Progress:  12%|█▏        | 116734/1000000 [10:48<32:39, 450.72it/s]"
          ]
        },
        {
          "output_type": "stream",
          "name": "stdout",
          "text": [
            "-----------------------------------------\n",
            "| rollout/                |             |\n",
            "|    ep_len_mean          | 1.32e+03    |\n",
            "|    ep_rew_mean          | 88.4        |\n",
            "| time/                   |             |\n",
            "|    fps                  | 719         |\n",
            "|    iterations           | 57          |\n",
            "|    time_elapsed         | 648         |\n",
            "|    total_timesteps      | 466944      |\n",
            "| train/                  |             |\n",
            "|    approx_kl            | 0.014565993 |\n",
            "|    clip_fraction        | 0.172       |\n",
            "|    clip_range           | 0.2         |\n",
            "|    entropy_loss         | -2.93       |\n",
            "|    explained_variance   | 0.876       |\n",
            "|    learning_rate        | 0.0003      |\n",
            "|    loss                 | 1.73        |\n",
            "|    n_updates            | 560         |\n",
            "|    policy_gradient_loss | -0.00297    |\n",
            "|    std                  | 0.505       |\n",
            "|    value_loss           | 5.67        |\n",
            "-----------------------------------------\n"
          ]
        },
        {
          "output_type": "stream",
          "name": "stderr",
          "text": [
            "Training Progress:  12%|█▏        | 118771/1000000 [11:00<34:08, 430.15it/s]"
          ]
        },
        {
          "output_type": "stream",
          "name": "stdout",
          "text": [
            "-----------------------------------------\n",
            "| rollout/                |             |\n",
            "|    ep_len_mean          | 1.35e+03    |\n",
            "|    ep_rew_mean          | 94.9        |\n",
            "| time/                   |             |\n",
            "|    fps                  | 719         |\n",
            "|    iterations           | 58          |\n",
            "|    time_elapsed         | 660         |\n",
            "|    total_timesteps      | 475136      |\n",
            "| train/                  |             |\n",
            "|    approx_kl            | 0.016172467 |\n",
            "|    clip_fraction        | 0.189       |\n",
            "|    clip_range           | 0.2         |\n",
            "|    entropy_loss         | -2.9        |\n",
            "|    explained_variance   | 0.855       |\n",
            "|    learning_rate        | 0.0003      |\n",
            "|    loss                 | 0.364       |\n",
            "|    n_updates            | 570         |\n",
            "|    policy_gradient_loss | -0.00336    |\n",
            "|    std                  | 0.5         |\n",
            "|    value_loss           | 4.02        |\n",
            "-----------------------------------------\n"
          ]
        },
        {
          "output_type": "stream",
          "name": "stderr",
          "text": [
            "Training Progress:  12%|█▏        | 120824/1000000 [11:11<34:03, 430.14it/s]"
          ]
        },
        {
          "output_type": "stream",
          "name": "stdout",
          "text": [
            "-----------------------------------------\n",
            "| rollout/                |             |\n",
            "|    ep_len_mean          | 1.28e+03    |\n",
            "|    ep_rew_mean          | 87.7        |\n",
            "| time/                   |             |\n",
            "|    fps                  | 719         |\n",
            "|    iterations           | 59          |\n",
            "|    time_elapsed         | 671         |\n",
            "|    total_timesteps      | 483328      |\n",
            "| train/                  |             |\n",
            "|    approx_kl            | 0.016770305 |\n",
            "|    clip_fraction        | 0.198       |\n",
            "|    clip_range           | 0.2         |\n",
            "|    entropy_loss         | -2.86       |\n",
            "|    explained_variance   | 0.92        |\n",
            "|    learning_rate        | 0.0003      |\n",
            "|    loss                 | 0.318       |\n",
            "|    n_updates            | 580         |\n",
            "|    policy_gradient_loss | -0.00159    |\n",
            "|    std                  | 0.497       |\n",
            "|    value_loss           | 2.34        |\n",
            "-----------------------------------------\n"
          ]
        },
        {
          "output_type": "stream",
          "name": "stderr",
          "text": [
            "Training Progress:  12%|█▏        | 122874/1000000 [11:23<33:02, 442.51it/s]"
          ]
        },
        {
          "output_type": "stream",
          "name": "stdout",
          "text": [
            "-----------------------------------------\n",
            "| rollout/                |             |\n",
            "|    ep_len_mean          | 1.23e+03    |\n",
            "|    ep_rew_mean          | 82.1        |\n",
            "| time/                   |             |\n",
            "|    fps                  | 719         |\n",
            "|    iterations           | 60          |\n",
            "|    time_elapsed         | 683         |\n",
            "|    total_timesteps      | 491520      |\n",
            "| train/                  |             |\n",
            "|    approx_kl            | 0.017716385 |\n",
            "|    clip_fraction        | 0.161       |\n",
            "|    clip_range           | 0.2         |\n",
            "|    entropy_loss         | -2.86       |\n",
            "|    explained_variance   | 0.893       |\n",
            "|    learning_rate        | 0.0003      |\n",
            "|    loss                 | 0.38        |\n",
            "|    n_updates            | 590         |\n",
            "|    policy_gradient_loss | -0.00194    |\n",
            "|    std                  | 0.498       |\n",
            "|    value_loss           | 8.76        |\n",
            "-----------------------------------------\n"
          ]
        },
        {
          "output_type": "stream",
          "name": "stderr",
          "text": [
            "Training Progress:  12%|█▏        | 124904/1000000 [11:34<50:40, 287.79it/s]"
          ]
        },
        {
          "output_type": "stream",
          "name": "stdout",
          "text": [
            "-----------------------------------------\n",
            "| rollout/                |             |\n",
            "|    ep_len_mean          | 1.23e+03    |\n",
            "|    ep_rew_mean          | 82.4        |\n",
            "| time/                   |             |\n",
            "|    fps                  | 719         |\n",
            "|    iterations           | 61          |\n",
            "|    time_elapsed         | 694         |\n",
            "|    total_timesteps      | 499712      |\n",
            "| train/                  |             |\n",
            "|    approx_kl            | 0.018448181 |\n",
            "|    clip_fraction        | 0.217       |\n",
            "|    clip_range           | 0.2         |\n",
            "|    entropy_loss         | -2.83       |\n",
            "|    explained_variance   | 0.932       |\n",
            "|    learning_rate        | 0.0003      |\n",
            "|    loss                 | 0.706       |\n",
            "|    n_updates            | 600         |\n",
            "|    policy_gradient_loss | -0.0013     |\n",
            "|    std                  | 0.492       |\n",
            "|    value_loss           | 5.38        |\n",
            "-----------------------------------------\n"
          ]
        },
        {
          "output_type": "stream",
          "name": "stderr",
          "text": [
            "Training Progress:  13%|█▎        | 126958/1000000 [11:45<46:20, 314.02it/s]"
          ]
        },
        {
          "output_type": "stream",
          "name": "stdout",
          "text": [
            "-----------------------------------------\n",
            "| rollout/                |             |\n",
            "|    ep_len_mean          | 1.24e+03    |\n",
            "|    ep_rew_mean          | 86.2        |\n",
            "| time/                   |             |\n",
            "|    fps                  | 720         |\n",
            "|    iterations           | 62          |\n",
            "|    time_elapsed         | 705         |\n",
            "|    total_timesteps      | 507904      |\n",
            "| train/                  |             |\n",
            "|    approx_kl            | 0.022653917 |\n",
            "|    clip_fraction        | 0.215       |\n",
            "|    clip_range           | 0.2         |\n",
            "|    entropy_loss         | -2.8        |\n",
            "|    explained_variance   | 0.925       |\n",
            "|    learning_rate        | 0.0003      |\n",
            "|    loss                 | 1.47        |\n",
            "|    n_updates            | 610         |\n",
            "|    policy_gradient_loss | -0.000734   |\n",
            "|    std                  | 0.488       |\n",
            "|    value_loss           | 7.7         |\n",
            "-----------------------------------------\n"
          ]
        },
        {
          "output_type": "stream",
          "name": "stderr",
          "text": [
            "Training Progress:  13%|█▎        | 128995/1000000 [11:57<33:56, 427.74it/s]"
          ]
        },
        {
          "output_type": "stream",
          "name": "stdout",
          "text": [
            "-----------------------------------------\n",
            "| rollout/                |             |\n",
            "|    ep_len_mean          | 1.24e+03    |\n",
            "|    ep_rew_mean          | 89          |\n",
            "| time/                   |             |\n",
            "|    fps                  | 719         |\n",
            "|    iterations           | 63          |\n",
            "|    time_elapsed         | 717         |\n",
            "|    total_timesteps      | 516096      |\n",
            "| train/                  |             |\n",
            "|    approx_kl            | 0.020973323 |\n",
            "|    clip_fraction        | 0.211       |\n",
            "|    clip_range           | 0.2         |\n",
            "|    entropy_loss         | -2.78       |\n",
            "|    explained_variance   | 0.945       |\n",
            "|    learning_rate        | 0.0003      |\n",
            "|    loss                 | 0.545       |\n",
            "|    n_updates            | 620         |\n",
            "|    policy_gradient_loss | -0.0014     |\n",
            "|    std                  | 0.489       |\n",
            "|    value_loss           | 5.02        |\n",
            "-----------------------------------------\n"
          ]
        },
        {
          "output_type": "stream",
          "name": "stderr",
          "text": [
            "Training Progress:  13%|█▎        | 131046/1000000 [12:08<33:14, 435.76it/s]"
          ]
        },
        {
          "output_type": "stream",
          "name": "stdout",
          "text": [
            "-----------------------------------------\n",
            "| rollout/                |             |\n",
            "|    ep_len_mean          | 1.23e+03    |\n",
            "|    ep_rew_mean          | 89.9        |\n",
            "| time/                   |             |\n",
            "|    fps                  | 719         |\n",
            "|    iterations           | 64          |\n",
            "|    time_elapsed         | 728         |\n",
            "|    total_timesteps      | 524288      |\n",
            "| train/                  |             |\n",
            "|    approx_kl            | 0.020007085 |\n",
            "|    clip_fraction        | 0.251       |\n",
            "|    clip_range           | 0.2         |\n",
            "|    entropy_loss         | -2.76       |\n",
            "|    explained_variance   | 0.927       |\n",
            "|    learning_rate        | 0.0003      |\n",
            "|    loss                 | 0.72        |\n",
            "|    n_updates            | 630         |\n",
            "|    policy_gradient_loss | 0.00131     |\n",
            "|    std                  | 0.484       |\n",
            "|    value_loss           | 4.2         |\n",
            "-----------------------------------------\n"
          ]
        },
        {
          "output_type": "stream",
          "name": "stderr",
          "text": [
            "Training Progress:  13%|█▎        | 133098/1000000 [12:20<32:58, 438.24it/s]"
          ]
        },
        {
          "output_type": "stream",
          "name": "stdout",
          "text": [
            "----------------------------------------\n",
            "| rollout/                |            |\n",
            "|    ep_len_mean          | 1.24e+03   |\n",
            "|    ep_rew_mean          | 91.8       |\n",
            "| time/                   |            |\n",
            "|    fps                  | 719        |\n",
            "|    iterations           | 65         |\n",
            "|    time_elapsed         | 740        |\n",
            "|    total_timesteps      | 532480     |\n",
            "| train/                  |            |\n",
            "|    approx_kl            | 0.01872779 |\n",
            "|    clip_fraction        | 0.226      |\n",
            "|    clip_range           | 0.2        |\n",
            "|    entropy_loss         | -2.73      |\n",
            "|    explained_variance   | 0.879      |\n",
            "|    learning_rate        | 0.0003     |\n",
            "|    loss                 | 0.629      |\n",
            "|    n_updates            | 640        |\n",
            "|    policy_gradient_loss | 0.00125    |\n",
            "|    std                  | 0.482      |\n",
            "|    value_loss           | 3.05       |\n",
            "----------------------------------------\n"
          ]
        },
        {
          "output_type": "stream",
          "name": "stderr",
          "text": [
            "Training Progress:  14%|█▎        | 135145/1000000 [12:31<34:12, 421.36it/s]"
          ]
        },
        {
          "output_type": "stream",
          "name": "stdout",
          "text": [
            "---------------------------------------\n",
            "| rollout/                |           |\n",
            "|    ep_len_mean          | 1.23e+03  |\n",
            "|    ep_rew_mean          | 94.8      |\n",
            "| time/                   |           |\n",
            "|    fps                  | 719       |\n",
            "|    iterations           | 66        |\n",
            "|    time_elapsed         | 751       |\n",
            "|    total_timesteps      | 540672    |\n",
            "| train/                  |           |\n",
            "|    approx_kl            | 0.0155602 |\n",
            "|    clip_fraction        | 0.207     |\n",
            "|    clip_range           | 0.2       |\n",
            "|    entropy_loss         | -2.68     |\n",
            "|    explained_variance   | 0.951     |\n",
            "|    learning_rate        | 0.0003    |\n",
            "|    loss                 | 0.348     |\n",
            "|    n_updates            | 650       |\n",
            "|    policy_gradient_loss | -0.00157  |\n",
            "|    std                  | 0.473     |\n",
            "|    value_loss           | 2.55      |\n",
            "---------------------------------------\n"
          ]
        },
        {
          "output_type": "stream",
          "name": "stderr",
          "text": [
            "Training Progress:  14%|█▎        | 137185/1000000 [12:42<33:31, 428.96it/s]"
          ]
        },
        {
          "output_type": "stream",
          "name": "stdout",
          "text": [
            "-----------------------------------------\n",
            "| rollout/                |             |\n",
            "|    ep_len_mean          | 1.24e+03    |\n",
            "|    ep_rew_mean          | 97.3        |\n",
            "| time/                   |             |\n",
            "|    fps                  | 719         |\n",
            "|    iterations           | 67          |\n",
            "|    time_elapsed         | 763         |\n",
            "|    total_timesteps      | 548864      |\n",
            "| train/                  |             |\n",
            "|    approx_kl            | 0.015016972 |\n",
            "|    clip_fraction        | 0.207       |\n",
            "|    clip_range           | 0.2         |\n",
            "|    entropy_loss         | -2.6        |\n",
            "|    explained_variance   | 0.956       |\n",
            "|    learning_rate        | 0.0003      |\n",
            "|    loss                 | 0.128       |\n",
            "|    n_updates            | 660         |\n",
            "|    policy_gradient_loss | -0.00431    |\n",
            "|    std                  | 0.464       |\n",
            "|    value_loss           | 1.58        |\n",
            "-----------------------------------------\n"
          ]
        },
        {
          "output_type": "stream",
          "name": "stderr",
          "text": [
            "Training Progress:  14%|█▍        | 139225/1000000 [12:54<31:53, 449.73it/s]"
          ]
        },
        {
          "output_type": "stream",
          "name": "stdout",
          "text": [
            "----------------------------------------\n",
            "| rollout/                |            |\n",
            "|    ep_len_mean          | 1.22e+03   |\n",
            "|    ep_rew_mean          | 96.3       |\n",
            "| time/                   |            |\n",
            "|    fps                  | 719        |\n",
            "|    iterations           | 68         |\n",
            "|    time_elapsed         | 774        |\n",
            "|    total_timesteps      | 557056     |\n",
            "| train/                  |            |\n",
            "|    approx_kl            | 0.01866914 |\n",
            "|    clip_fraction        | 0.196      |\n",
            "|    clip_range           | 0.2        |\n",
            "|    entropy_loss         | -2.53      |\n",
            "|    explained_variance   | 0.951      |\n",
            "|    learning_rate        | 0.0003     |\n",
            "|    loss                 | 11.6       |\n",
            "|    n_updates            | 670        |\n",
            "|    policy_gradient_loss | -0.00494   |\n",
            "|    std                  | 0.457      |\n",
            "|    value_loss           | 1.83       |\n",
            "----------------------------------------\n"
          ]
        },
        {
          "output_type": "stream",
          "name": "stderr",
          "text": [
            "Training Progress:  14%|█▍        | 141297/1000000 [13:05<46:04, 310.58it/s]"
          ]
        },
        {
          "output_type": "stream",
          "name": "stdout",
          "text": [
            "-----------------------------------------\n",
            "| rollout/                |             |\n",
            "|    ep_len_mean          | 1.22e+03    |\n",
            "|    ep_rew_mean          | 101         |\n",
            "| time/                   |             |\n",
            "|    fps                  | 719         |\n",
            "|    iterations           | 69          |\n",
            "|    time_elapsed         | 785         |\n",
            "|    total_timesteps      | 565248      |\n",
            "| train/                  |             |\n",
            "|    approx_kl            | 0.016629387 |\n",
            "|    clip_fraction        | 0.182       |\n",
            "|    clip_range           | 0.2         |\n",
            "|    entropy_loss         | -2.51       |\n",
            "|    explained_variance   | 0.952       |\n",
            "|    learning_rate        | 0.0003      |\n",
            "|    loss                 | 0.353       |\n",
            "|    n_updates            | 680         |\n",
            "|    policy_gradient_loss | -0.00374    |\n",
            "|    std                  | 0.456       |\n",
            "|    value_loss           | 3.96        |\n",
            "-----------------------------------------\n"
          ]
        },
        {
          "output_type": "stream",
          "name": "stderr",
          "text": [
            "Training Progress:  14%|█▍        | 143354/1000000 [13:16<44:47, 318.75it/s]"
          ]
        },
        {
          "output_type": "stream",
          "name": "stdout",
          "text": [
            "-----------------------------------------\n",
            "| rollout/                |             |\n",
            "|    ep_len_mean          | 1.21e+03    |\n",
            "|    ep_rew_mean          | 99.5        |\n",
            "| time/                   |             |\n",
            "|    fps                  | 719         |\n",
            "|    iterations           | 70          |\n",
            "|    time_elapsed         | 796         |\n",
            "|    total_timesteps      | 573440      |\n",
            "| train/                  |             |\n",
            "|    approx_kl            | 0.016150128 |\n",
            "|    clip_fraction        | 0.187       |\n",
            "|    clip_range           | 0.2         |\n",
            "|    entropy_loss         | -2.5        |\n",
            "|    explained_variance   | 0.952       |\n",
            "|    learning_rate        | 0.0003      |\n",
            "|    loss                 | 0.186       |\n",
            "|    n_updates            | 690         |\n",
            "|    policy_gradient_loss | -0.00121    |\n",
            "|    std                  | 0.454       |\n",
            "|    value_loss           | 4.47        |\n",
            "-----------------------------------------\n"
          ]
        },
        {
          "output_type": "stream",
          "name": "stderr",
          "text": [
            "Training Progress:  15%|█▍        | 145368/1000000 [13:27<32:39, 436.18it/s]"
          ]
        },
        {
          "output_type": "stream",
          "name": "stdout",
          "text": [
            "-----------------------------------------\n",
            "| rollout/                |             |\n",
            "|    ep_len_mean          | 1.24e+03    |\n",
            "|    ep_rew_mean          | 106         |\n",
            "| time/                   |             |\n",
            "|    fps                  | 720         |\n",
            "|    iterations           | 71          |\n",
            "|    time_elapsed         | 807         |\n",
            "|    total_timesteps      | 581632      |\n",
            "| train/                  |             |\n",
            "|    approx_kl            | 0.012955502 |\n",
            "|    clip_fraction        | 0.167       |\n",
            "|    clip_range           | 0.2         |\n",
            "|    entropy_loss         | -2.48       |\n",
            "|    explained_variance   | 0.911       |\n",
            "|    learning_rate        | 0.0003      |\n",
            "|    loss                 | 0.62        |\n",
            "|    n_updates            | 700         |\n",
            "|    policy_gradient_loss | -0.00273    |\n",
            "|    std                  | 0.454       |\n",
            "|    value_loss           | 5.64        |\n",
            "-----------------------------------------\n"
          ]
        },
        {
          "output_type": "stream",
          "name": "stderr",
          "text": [
            "Training Progress:  15%|█▍        | 147442/1000000 [13:38<32:09, 441.80it/s]"
          ]
        },
        {
          "output_type": "stream",
          "name": "stdout",
          "text": [
            "----------------------------------------\n",
            "| rollout/                |            |\n",
            "|    ep_len_mean          | 1.25e+03   |\n",
            "|    ep_rew_mean          | 112        |\n",
            "| time/                   |            |\n",
            "|    fps                  | 720        |\n",
            "|    iterations           | 72         |\n",
            "|    time_elapsed         | 819        |\n",
            "|    total_timesteps      | 589824     |\n",
            "| train/                  |            |\n",
            "|    approx_kl            | 0.02088204 |\n",
            "|    clip_fraction        | 0.249      |\n",
            "|    clip_range           | 0.2        |\n",
            "|    entropy_loss         | -2.42      |\n",
            "|    explained_variance   | 0.554      |\n",
            "|    learning_rate        | 0.0003     |\n",
            "|    loss                 | 0.325      |\n",
            "|    n_updates            | 710        |\n",
            "|    policy_gradient_loss | -0.000573  |\n",
            "|    std                  | 0.446      |\n",
            "|    value_loss           | 0.729      |\n",
            "----------------------------------------\n"
          ]
        },
        {
          "output_type": "stream",
          "name": "stderr",
          "text": [
            "Training Progress:  15%|█▍        | 149473/1000000 [13:50<32:01, 442.69it/s]"
          ]
        },
        {
          "output_type": "stream",
          "name": "stdout",
          "text": [
            "-----------------------------------------\n",
            "| rollout/                |             |\n",
            "|    ep_len_mean          | 1.27e+03    |\n",
            "|    ep_rew_mean          | 116         |\n",
            "| time/                   |             |\n",
            "|    fps                  | 720         |\n",
            "|    iterations           | 73          |\n",
            "|    time_elapsed         | 830         |\n",
            "|    total_timesteps      | 598016      |\n",
            "| train/                  |             |\n",
            "|    approx_kl            | 0.014423306 |\n",
            "|    clip_fraction        | 0.19        |\n",
            "|    clip_range           | 0.2         |\n",
            "|    entropy_loss         | -2.38       |\n",
            "|    explained_variance   | 0.848       |\n",
            "|    learning_rate        | 0.0003      |\n",
            "|    loss                 | 0.197       |\n",
            "|    n_updates            | 720         |\n",
            "|    policy_gradient_loss | -0.00422    |\n",
            "|    std                  | 0.441       |\n",
            "|    value_loss           | 0.562       |\n",
            "-----------------------------------------\n"
          ]
        },
        {
          "output_type": "stream",
          "name": "stderr",
          "text": [
            "Training Progress:  15%|█▌        | 151546/1000000 [14:01<31:51, 443.78it/s]"
          ]
        },
        {
          "output_type": "stream",
          "name": "stdout",
          "text": [
            "-----------------------------------------\n",
            "| rollout/                |             |\n",
            "|    ep_len_mean          | 1.27e+03    |\n",
            "|    ep_rew_mean          | 118         |\n",
            "| time/                   |             |\n",
            "|    fps                  | 720         |\n",
            "|    iterations           | 74          |\n",
            "|    time_elapsed         | 841         |\n",
            "|    total_timesteps      | 606208      |\n",
            "| train/                  |             |\n",
            "|    approx_kl            | 0.015056889 |\n",
            "|    clip_fraction        | 0.189       |\n",
            "|    clip_range           | 0.2         |\n",
            "|    entropy_loss         | -2.3        |\n",
            "|    explained_variance   | 0.866       |\n",
            "|    learning_rate        | 0.0003      |\n",
            "|    loss                 | 0.207       |\n",
            "|    n_updates            | 730         |\n",
            "|    policy_gradient_loss | -0.00468    |\n",
            "|    std                  | 0.434       |\n",
            "|    value_loss           | 0.309       |\n",
            "-----------------------------------------\n"
          ]
        },
        {
          "output_type": "stream",
          "name": "stderr",
          "text": [
            "Training Progress:  15%|█▌        | 153581/1000000 [14:13<31:24, 449.06it/s]"
          ]
        },
        {
          "output_type": "stream",
          "name": "stdout",
          "text": [
            "-----------------------------------------\n",
            "| rollout/                |             |\n",
            "|    ep_len_mean          | 1.3e+03     |\n",
            "|    ep_rew_mean          | 123         |\n",
            "| time/                   |             |\n",
            "|    fps                  | 720         |\n",
            "|    iterations           | 75          |\n",
            "|    time_elapsed         | 853         |\n",
            "|    total_timesteps      | 614400      |\n",
            "| train/                  |             |\n",
            "|    approx_kl            | 0.011782743 |\n",
            "|    clip_fraction        | 0.113       |\n",
            "|    clip_range           | 0.2         |\n",
            "|    entropy_loss         | -2.27       |\n",
            "|    explained_variance   | 0.94        |\n",
            "|    learning_rate        | 0.0003      |\n",
            "|    loss                 | 3.63        |\n",
            "|    n_updates            | 740         |\n",
            "|    policy_gradient_loss | -0.00256    |\n",
            "|    std                  | 0.43        |\n",
            "|    value_loss           | 5.59        |\n",
            "-----------------------------------------\n"
          ]
        },
        {
          "output_type": "stream",
          "name": "stderr",
          "text": [
            "Training Progress:  16%|█▌        | 155612/1000000 [14:24<33:00, 426.29it/s]"
          ]
        },
        {
          "output_type": "stream",
          "name": "stdout",
          "text": [
            "----------------------------------------\n",
            "| rollout/                |            |\n",
            "|    ep_len_mean          | 1.33e+03   |\n",
            "|    ep_rew_mean          | 133        |\n",
            "| time/                   |            |\n",
            "|    fps                  | 720        |\n",
            "|    iterations           | 76         |\n",
            "|    time_elapsed         | 864        |\n",
            "|    total_timesteps      | 622592     |\n",
            "| train/                  |            |\n",
            "|    approx_kl            | 0.01867462 |\n",
            "|    clip_fraction        | 0.229      |\n",
            "|    clip_range           | 0.2        |\n",
            "|    entropy_loss         | -2.22      |\n",
            "|    explained_variance   | 0.934      |\n",
            "|    learning_rate        | 0.0003     |\n",
            "|    loss                 | 3.49       |\n",
            "|    n_updates            | 750        |\n",
            "|    policy_gradient_loss | -0.000439  |\n",
            "|    std                  | 0.425      |\n",
            "|    value_loss           | 1.72       |\n",
            "----------------------------------------\n"
          ]
        },
        {
          "output_type": "stream",
          "name": "stderr",
          "text": [
            "Training Progress:  16%|█▌        | 157671/1000000 [14:35<47:00, 298.60it/s]"
          ]
        },
        {
          "output_type": "stream",
          "name": "stdout",
          "text": [
            "-----------------------------------------\n",
            "| rollout/                |             |\n",
            "|    ep_len_mean          | 1.32e+03    |\n",
            "|    ep_rew_mean          | 134         |\n",
            "| time/                   |             |\n",
            "|    fps                  | 720         |\n",
            "|    iterations           | 77          |\n",
            "|    time_elapsed         | 876         |\n",
            "|    total_timesteps      | 630784      |\n",
            "| train/                  |             |\n",
            "|    approx_kl            | 0.018183663 |\n",
            "|    clip_fraction        | 0.21        |\n",
            "|    clip_range           | 0.2         |\n",
            "|    entropy_loss         | -2.18       |\n",
            "|    explained_variance   | 0.917       |\n",
            "|    learning_rate        | 0.0003      |\n",
            "|    loss                 | 0.627       |\n",
            "|    n_updates            | 760         |\n",
            "|    policy_gradient_loss | -0.00172    |\n",
            "|    std                  | 0.42        |\n",
            "|    value_loss           | 3.92        |\n",
            "-----------------------------------------\n"
          ]
        },
        {
          "output_type": "stream",
          "name": "stderr",
          "text": [
            "Training Progress:  16%|█▌        | 159738/1000000 [14:46<42:15, 331.44it/s]"
          ]
        },
        {
          "output_type": "stream",
          "name": "stdout",
          "text": [
            "-----------------------------------------\n",
            "| rollout/                |             |\n",
            "|    ep_len_mean          | 1.32e+03    |\n",
            "|    ep_rew_mean          | 136         |\n",
            "| time/                   |             |\n",
            "|    fps                  | 720         |\n",
            "|    iterations           | 78          |\n",
            "|    time_elapsed         | 887         |\n",
            "|    total_timesteps      | 638976      |\n",
            "| train/                  |             |\n",
            "|    approx_kl            | 0.010182754 |\n",
            "|    clip_fraction        | 0.131       |\n",
            "|    clip_range           | 0.2         |\n",
            "|    entropy_loss         | -2.16       |\n",
            "|    explained_variance   | 0.933       |\n",
            "|    learning_rate        | 0.0003      |\n",
            "|    loss                 | 12.4        |\n",
            "|    n_updates            | 770         |\n",
            "|    policy_gradient_loss | -0.00276    |\n",
            "|    std                  | 0.419       |\n",
            "|    value_loss           | 13.9        |\n",
            "-----------------------------------------\n"
          ]
        },
        {
          "output_type": "stream",
          "name": "stderr",
          "text": [
            "Training Progress:  16%|█▌        | 161751/1000000 [14:58<32:10, 434.27it/s]"
          ]
        },
        {
          "output_type": "stream",
          "name": "stdout",
          "text": [
            "-----------------------------------------\n",
            "| rollout/                |             |\n",
            "|    ep_len_mean          | 1.34e+03    |\n",
            "|    ep_rew_mean          | 142         |\n",
            "| time/                   |             |\n",
            "|    fps                  | 720         |\n",
            "|    iterations           | 79          |\n",
            "|    time_elapsed         | 898         |\n",
            "|    total_timesteps      | 647168      |\n",
            "| train/                  |             |\n",
            "|    approx_kl            | 0.022864345 |\n",
            "|    clip_fraction        | 0.29        |\n",
            "|    clip_range           | 0.2         |\n",
            "|    entropy_loss         | -2.14       |\n",
            "|    explained_variance   | 0.887       |\n",
            "|    learning_rate        | 0.0003      |\n",
            "|    loss                 | 5.39        |\n",
            "|    n_updates            | 780         |\n",
            "|    policy_gradient_loss | -0.00109    |\n",
            "|    std                  | 0.418       |\n",
            "|    value_loss           | 5.12        |\n",
            "-----------------------------------------\n"
          ]
        },
        {
          "output_type": "stream",
          "name": "stderr",
          "text": [
            "Training Progress:  16%|█▋        | 163829/1000000 [15:09<31:54, 436.68it/s]"
          ]
        },
        {
          "output_type": "stream",
          "name": "stdout",
          "text": [
            "-----------------------------------------\n",
            "| rollout/                |             |\n",
            "|    ep_len_mean          | 1.31e+03    |\n",
            "|    ep_rew_mean          | 138         |\n",
            "| time/                   |             |\n",
            "|    fps                  | 720         |\n",
            "|    iterations           | 80          |\n",
            "|    time_elapsed         | 909         |\n",
            "|    total_timesteps      | 655360      |\n",
            "| train/                  |             |\n",
            "|    approx_kl            | 0.016434725 |\n",
            "|    clip_fraction        | 0.207       |\n",
            "|    clip_range           | 0.2         |\n",
            "|    entropy_loss         | -2.13       |\n",
            "|    explained_variance   | 0.882       |\n",
            "|    learning_rate        | 0.0003      |\n",
            "|    loss                 | 1.23        |\n",
            "|    n_updates            | 790         |\n",
            "|    policy_gradient_loss | -0.000967   |\n",
            "|    std                  | 0.415       |\n",
            "|    value_loss           | 10.2        |\n",
            "-----------------------------------------\n"
          ]
        },
        {
          "output_type": "stream",
          "name": "stderr",
          "text": [
            "Training Progress:  17%|█▋        | 165853/1000000 [15:20<32:41, 425.37it/s]"
          ]
        },
        {
          "output_type": "stream",
          "name": "stdout",
          "text": [
            "-----------------------------------------\n",
            "| rollout/                |             |\n",
            "|    ep_len_mean          | 1.33e+03    |\n",
            "|    ep_rew_mean          | 146         |\n",
            "| time/                   |             |\n",
            "|    fps                  | 720         |\n",
            "|    iterations           | 81          |\n",
            "|    time_elapsed         | 920         |\n",
            "|    total_timesteps      | 663552      |\n",
            "| train/                  |             |\n",
            "|    approx_kl            | 0.023338038 |\n",
            "|    clip_fraction        | 0.29        |\n",
            "|    clip_range           | 0.2         |\n",
            "|    entropy_loss         | -2.11       |\n",
            "|    explained_variance   | 0.963       |\n",
            "|    learning_rate        | 0.0003      |\n",
            "|    loss                 | 0.426       |\n",
            "|    n_updates            | 800         |\n",
            "|    policy_gradient_loss | 0.00279     |\n",
            "|    std                  | 0.414       |\n",
            "|    value_loss           | 4.41        |\n",
            "-----------------------------------------\n"
          ]
        },
        {
          "output_type": "stream",
          "name": "stderr",
          "text": [
            "Training Progress:  17%|█▋        | 167913/1000000 [15:32<30:54, 448.75it/s]"
          ]
        },
        {
          "output_type": "stream",
          "name": "stdout",
          "text": [
            "-----------------------------------------\n",
            "| rollout/                |             |\n",
            "|    ep_len_mean          | 1.3e+03     |\n",
            "|    ep_rew_mean          | 139         |\n",
            "| time/                   |             |\n",
            "|    fps                  | 720         |\n",
            "|    iterations           | 82          |\n",
            "|    time_elapsed         | 932         |\n",
            "|    total_timesteps      | 671744      |\n",
            "| train/                  |             |\n",
            "|    approx_kl            | 0.021032752 |\n",
            "|    clip_fraction        | 0.261       |\n",
            "|    clip_range           | 0.2         |\n",
            "|    entropy_loss         | -2.09       |\n",
            "|    explained_variance   | 0.91        |\n",
            "|    learning_rate        | 0.0003      |\n",
            "|    loss                 | 0.558       |\n",
            "|    n_updates            | 810         |\n",
            "|    policy_gradient_loss | 0.00127     |\n",
            "|    std                  | 0.413       |\n",
            "|    value_loss           | 4.18        |\n",
            "-----------------------------------------\n"
          ]
        },
        {
          "output_type": "stream",
          "name": "stderr",
          "text": [
            "Training Progress:  17%|█▋        | 169971/1000000 [15:44<31:49, 434.63it/s]"
          ]
        },
        {
          "output_type": "stream",
          "name": "stdout",
          "text": [
            "----------------------------------------\n",
            "| rollout/                |            |\n",
            "|    ep_len_mean          | 1.33e+03   |\n",
            "|    ep_rew_mean          | 147        |\n",
            "| time/                   |            |\n",
            "|    fps                  | 719        |\n",
            "|    iterations           | 83         |\n",
            "|    time_elapsed         | 945        |\n",
            "|    total_timesteps      | 679936     |\n",
            "| train/                  |            |\n",
            "|    approx_kl            | 0.01483448 |\n",
            "|    clip_fraction        | 0.185      |\n",
            "|    clip_range           | 0.2        |\n",
            "|    entropy_loss         | -2.06      |\n",
            "|    explained_variance   | 0.949      |\n",
            "|    learning_rate        | 0.0003     |\n",
            "|    loss                 | 1.02       |\n",
            "|    n_updates            | 820        |\n",
            "|    policy_gradient_loss | -0.000111  |\n",
            "|    std                  | 0.407      |\n",
            "|    value_loss           | 8.15       |\n",
            "----------------------------------------\n"
          ]
        },
        {
          "output_type": "stream",
          "name": "stderr",
          "text": [
            "Training Progress:  17%|█▋        | 172030/1000000 [15:56<45:05, 305.98it/s]"
          ]
        },
        {
          "output_type": "stream",
          "name": "stdout",
          "text": [
            "-----------------------------------------\n",
            "| rollout/                |             |\n",
            "|    ep_len_mean          | 1.34e+03    |\n",
            "|    ep_rew_mean          | 152         |\n",
            "| time/                   |             |\n",
            "|    fps                  | 719         |\n",
            "|    iterations           | 84          |\n",
            "|    time_elapsed         | 956         |\n",
            "|    total_timesteps      | 688128      |\n",
            "| train/                  |             |\n",
            "|    approx_kl            | 0.016202519 |\n",
            "|    clip_fraction        | 0.268       |\n",
            "|    clip_range           | 0.2         |\n",
            "|    entropy_loss         | -2.02       |\n",
            "|    explained_variance   | 0.547       |\n",
            "|    learning_rate        | 0.0003      |\n",
            "|    loss                 | 0.18        |\n",
            "|    n_updates            | 830         |\n",
            "|    policy_gradient_loss | 0.000783    |\n",
            "|    std                  | 0.402       |\n",
            "|    value_loss           | 0.488       |\n",
            "-----------------------------------------\n"
          ]
        },
        {
          "output_type": "stream",
          "name": "stderr",
          "text": [
            "Training Progress:  17%|█▋        | 174064/1000000 [16:07<41:23, 332.55it/s]"
          ]
        },
        {
          "output_type": "stream",
          "name": "stdout",
          "text": [
            "-----------------------------------------\n",
            "| rollout/                |             |\n",
            "|    ep_len_mean          | 1.35e+03    |\n",
            "|    ep_rew_mean          | 157         |\n",
            "| time/                   |             |\n",
            "|    fps                  | 719         |\n",
            "|    iterations           | 85          |\n",
            "|    time_elapsed         | 967         |\n",
            "|    total_timesteps      | 696320      |\n",
            "| train/                  |             |\n",
            "|    approx_kl            | 0.017555851 |\n",
            "|    clip_fraction        | 0.217       |\n",
            "|    clip_range           | 0.2         |\n",
            "|    entropy_loss         | -1.96       |\n",
            "|    explained_variance   | 0.368       |\n",
            "|    learning_rate        | 0.0003      |\n",
            "|    loss                 | 0.852       |\n",
            "|    n_updates            | 840         |\n",
            "|    policy_gradient_loss | -0.00168    |\n",
            "|    std                  | 0.397       |\n",
            "|    value_loss           | 0.978       |\n",
            "-----------------------------------------\n"
          ]
        },
        {
          "output_type": "stream",
          "name": "stderr",
          "text": [
            "Training Progress:  18%|█▊        | 176124/1000000 [16:18<31:24, 437.10it/s]"
          ]
        },
        {
          "output_type": "stream",
          "name": "stdout",
          "text": [
            "-----------------------------------------\n",
            "| rollout/                |             |\n",
            "|    ep_len_mean          | 1.37e+03    |\n",
            "|    ep_rew_mean          | 162         |\n",
            "| time/                   |             |\n",
            "|    fps                  | 720         |\n",
            "|    iterations           | 86          |\n",
            "|    time_elapsed         | 978         |\n",
            "|    total_timesteps      | 704512      |\n",
            "| train/                  |             |\n",
            "|    approx_kl            | 0.017376762 |\n",
            "|    clip_fraction        | 0.211       |\n",
            "|    clip_range           | 0.2         |\n",
            "|    entropy_loss         | -1.91       |\n",
            "|    explained_variance   | 0.9         |\n",
            "|    learning_rate        | 0.0003      |\n",
            "|    loss                 | 0.151       |\n",
            "|    n_updates            | 850         |\n",
            "|    policy_gradient_loss | -0.00349    |\n",
            "|    std                  | 0.392       |\n",
            "|    value_loss           | 1.31        |\n",
            "-----------------------------------------\n"
          ]
        },
        {
          "output_type": "stream",
          "name": "stderr",
          "text": [
            "Training Progress:  18%|█▊        | 178134/1000000 [16:29<31:50, 430.12it/s]"
          ]
        },
        {
          "output_type": "stream",
          "name": "stdout",
          "text": [
            "-----------------------------------------\n",
            "| rollout/                |             |\n",
            "|    ep_len_mean          | 1.34e+03    |\n",
            "|    ep_rew_mean          | 159         |\n",
            "| time/                   |             |\n",
            "|    fps                  | 720         |\n",
            "|    iterations           | 87          |\n",
            "|    time_elapsed         | 989         |\n",
            "|    total_timesteps      | 712704      |\n",
            "| train/                  |             |\n",
            "|    approx_kl            | 0.018872494 |\n",
            "|    clip_fraction        | 0.238       |\n",
            "|    clip_range           | 0.2         |\n",
            "|    entropy_loss         | -1.85       |\n",
            "|    explained_variance   | 0.976       |\n",
            "|    learning_rate        | 0.0003      |\n",
            "|    loss                 | 0.149       |\n",
            "|    n_updates            | 860         |\n",
            "|    policy_gradient_loss | -0.00682    |\n",
            "|    std                  | 0.386       |\n",
            "|    value_loss           | 0.396       |\n",
            "-----------------------------------------\n"
          ]
        },
        {
          "output_type": "stream",
          "name": "stderr",
          "text": [
            "Training Progress:  18%|█▊        | 180188/1000000 [16:41<31:20, 435.99it/s]"
          ]
        },
        {
          "output_type": "stream",
          "name": "stdout",
          "text": [
            "-----------------------------------------\n",
            "| rollout/                |             |\n",
            "|    ep_len_mean          | 1.33e+03    |\n",
            "|    ep_rew_mean          | 158         |\n",
            "| time/                   |             |\n",
            "|    fps                  | 720         |\n",
            "|    iterations           | 88          |\n",
            "|    time_elapsed         | 1001        |\n",
            "|    total_timesteps      | 720896      |\n",
            "| train/                  |             |\n",
            "|    approx_kl            | 0.015582587 |\n",
            "|    clip_fraction        | 0.179       |\n",
            "|    clip_range           | 0.2         |\n",
            "|    entropy_loss         | -1.82       |\n",
            "|    explained_variance   | 0.901       |\n",
            "|    learning_rate        | 0.0003      |\n",
            "|    loss                 | 0.32        |\n",
            "|    n_updates            | 870         |\n",
            "|    policy_gradient_loss | -0.00151    |\n",
            "|    std                  | 0.383       |\n",
            "|    value_loss           | 3.74        |\n",
            "-----------------------------------------\n"
          ]
        },
        {
          "output_type": "stream",
          "name": "stderr",
          "text": [
            "Training Progress:  18%|█▊        | 182262/1000000 [16:52<31:14, 436.16it/s]"
          ]
        },
        {
          "output_type": "stream",
          "name": "stdout",
          "text": [
            "-----------------------------------------\n",
            "| rollout/                |             |\n",
            "|    ep_len_mean          | 1.3e+03     |\n",
            "|    ep_rew_mean          | 154         |\n",
            "| time/                   |             |\n",
            "|    fps                  | 720         |\n",
            "|    iterations           | 89          |\n",
            "|    time_elapsed         | 1012        |\n",
            "|    total_timesteps      | 729088      |\n",
            "| train/                  |             |\n",
            "|    approx_kl            | 0.023901751 |\n",
            "|    clip_fraction        | 0.227       |\n",
            "|    clip_range           | 0.2         |\n",
            "|    entropy_loss         | -1.8        |\n",
            "|    explained_variance   | 0.941       |\n",
            "|    learning_rate        | 0.0003      |\n",
            "|    loss                 | 0.575       |\n",
            "|    n_updates            | 880         |\n",
            "|    policy_gradient_loss | 0.000252    |\n",
            "|    std                  | 0.382       |\n",
            "|    value_loss           | 5.42        |\n",
            "-----------------------------------------\n"
          ]
        },
        {
          "output_type": "stream",
          "name": "stderr",
          "text": [
            "Training Progress:  18%|█▊        | 184315/1000000 [17:03<31:05, 437.16it/s]"
          ]
        },
        {
          "output_type": "stream",
          "name": "stdout",
          "text": [
            "-----------------------------------------\n",
            "| rollout/                |             |\n",
            "|    ep_len_mean          | 1.32e+03    |\n",
            "|    ep_rew_mean          | 160         |\n",
            "| time/                   |             |\n",
            "|    fps                  | 720         |\n",
            "|    iterations           | 90          |\n",
            "|    time_elapsed         | 1023        |\n",
            "|    total_timesteps      | 737280      |\n",
            "| train/                  |             |\n",
            "|    approx_kl            | 0.021392528 |\n",
            "|    clip_fraction        | 0.257       |\n",
            "|    clip_range           | 0.2         |\n",
            "|    entropy_loss         | -1.78       |\n",
            "|    explained_variance   | 0.924       |\n",
            "|    learning_rate        | 0.0003      |\n",
            "|    loss                 | 13.2        |\n",
            "|    n_updates            | 890         |\n",
            "|    policy_gradient_loss | 0.00143     |\n",
            "|    std                  | 0.38        |\n",
            "|    value_loss           | 7.23        |\n",
            "-----------------------------------------\n"
          ]
        },
        {
          "output_type": "stream",
          "name": "stderr",
          "text": [
            "Training Progress:  19%|█▊        | 186341/1000000 [17:15<32:09, 421.61it/s]"
          ]
        },
        {
          "output_type": "stream",
          "name": "stdout",
          "text": [
            "-----------------------------------------\n",
            "| rollout/                |             |\n",
            "|    ep_len_mean          | 1.3e+03     |\n",
            "|    ep_rew_mean          | 159         |\n",
            "| time/                   |             |\n",
            "|    fps                  | 719         |\n",
            "|    iterations           | 91          |\n",
            "|    time_elapsed         | 1035        |\n",
            "|    total_timesteps      | 745472      |\n",
            "| train/                  |             |\n",
            "|    approx_kl            | 0.020418294 |\n",
            "|    clip_fraction        | 0.269       |\n",
            "|    clip_range           | 0.2         |\n",
            "|    entropy_loss         | -1.72       |\n",
            "|    explained_variance   | 0.615       |\n",
            "|    learning_rate        | 0.0003      |\n",
            "|    loss                 | 0.707       |\n",
            "|    n_updates            | 900         |\n",
            "|    policy_gradient_loss | -0.000531   |\n",
            "|    std                  | 0.373       |\n",
            "|    value_loss           | 0.719       |\n",
            "-----------------------------------------\n"
          ]
        },
        {
          "output_type": "stream",
          "name": "stderr",
          "text": [
            "Training Progress:  19%|█▉        | 188408/1000000 [17:26<45:49, 295.21it/s]"
          ]
        },
        {
          "output_type": "stream",
          "name": "stdout",
          "text": [
            "-----------------------------------------\n",
            "| rollout/                |             |\n",
            "|    ep_len_mean          | 1.3e+03     |\n",
            "|    ep_rew_mean          | 164         |\n",
            "| time/                   |             |\n",
            "|    fps                  | 720         |\n",
            "|    iterations           | 92          |\n",
            "|    time_elapsed         | 1046        |\n",
            "|    total_timesteps      | 753664      |\n",
            "| train/                  |             |\n",
            "|    approx_kl            | 0.019443467 |\n",
            "|    clip_fraction        | 0.198       |\n",
            "|    clip_range           | 0.2         |\n",
            "|    entropy_loss         | -1.68       |\n",
            "|    explained_variance   | 0.948       |\n",
            "|    learning_rate        | 0.0003      |\n",
            "|    loss                 | 0.381       |\n",
            "|    n_updates            | 910         |\n",
            "|    policy_gradient_loss | -0.00305    |\n",
            "|    std                  | 0.371       |\n",
            "|    value_loss           | 6.72        |\n",
            "-----------------------------------------\n"
          ]
        },
        {
          "output_type": "stream",
          "name": "stderr",
          "text": [
            "Training Progress:  19%|█▉        | 190427/1000000 [17:37<30:07, 447.98it/s]"
          ]
        },
        {
          "output_type": "stream",
          "name": "stdout",
          "text": [
            "-----------------------------------------\n",
            "| rollout/                |             |\n",
            "|    ep_len_mean          | 1.33e+03    |\n",
            "|    ep_rew_mean          | 171         |\n",
            "| time/                   |             |\n",
            "|    fps                  | 720         |\n",
            "|    iterations           | 93          |\n",
            "|    time_elapsed         | 1057        |\n",
            "|    total_timesteps      | 761856      |\n",
            "| train/                  |             |\n",
            "|    approx_kl            | 0.023773659 |\n",
            "|    clip_fraction        | 0.271       |\n",
            "|    clip_range           | 0.2         |\n",
            "|    entropy_loss         | -1.66       |\n",
            "|    explained_variance   | 0.396       |\n",
            "|    learning_rate        | 0.0003      |\n",
            "|    loss                 | 0.226       |\n",
            "|    n_updates            | 920         |\n",
            "|    policy_gradient_loss | 0.000395    |\n",
            "|    std                  | 0.369       |\n",
            "|    value_loss           | 1.32        |\n",
            "-----------------------------------------\n"
          ]
        },
        {
          "output_type": "stream",
          "name": "stderr",
          "text": [
            "Training Progress:  19%|█▉        | 192494/1000000 [17:48<30:15, 444.70it/s]"
          ]
        },
        {
          "output_type": "stream",
          "name": "stdout",
          "text": [
            "-----------------------------------------\n",
            "| rollout/                |             |\n",
            "|    ep_len_mean          | 1.36e+03    |\n",
            "|    ep_rew_mean          | 181         |\n",
            "| time/                   |             |\n",
            "|    fps                  | 720         |\n",
            "|    iterations           | 94          |\n",
            "|    time_elapsed         | 1068        |\n",
            "|    total_timesteps      | 770048      |\n",
            "| train/                  |             |\n",
            "|    approx_kl            | 0.022264894 |\n",
            "|    clip_fraction        | 0.25        |\n",
            "|    clip_range           | 0.2         |\n",
            "|    entropy_loss         | -1.64       |\n",
            "|    explained_variance   | 0.911       |\n",
            "|    learning_rate        | 0.0003      |\n",
            "|    loss                 | 0.157       |\n",
            "|    n_updates            | 930         |\n",
            "|    policy_gradient_loss | -0.0056     |\n",
            "|    std                  | 0.367       |\n",
            "|    value_loss           | 0.993       |\n",
            "-----------------------------------------\n"
          ]
        },
        {
          "output_type": "stream",
          "name": "stderr",
          "text": [
            "Training Progress:  19%|█▉        | 194526/1000000 [17:59<30:32, 439.45it/s]"
          ]
        },
        {
          "output_type": "stream",
          "name": "stdout",
          "text": [
            "-----------------------------------------\n",
            "| rollout/                |             |\n",
            "|    ep_len_mean          | 1.34e+03    |\n",
            "|    ep_rew_mean          | 175         |\n",
            "| time/                   |             |\n",
            "|    fps                  | 720         |\n",
            "|    iterations           | 95          |\n",
            "|    time_elapsed         | 1079        |\n",
            "|    total_timesteps      | 778240      |\n",
            "| train/                  |             |\n",
            "|    approx_kl            | 0.017382154 |\n",
            "|    clip_fraction        | 0.233       |\n",
            "|    clip_range           | 0.2         |\n",
            "|    entropy_loss         | -1.59       |\n",
            "|    explained_variance   | 0.892       |\n",
            "|    learning_rate        | 0.0003      |\n",
            "|    loss                 | 0.164       |\n",
            "|    n_updates            | 940         |\n",
            "|    policy_gradient_loss | -0.00675    |\n",
            "|    std                  | 0.363       |\n",
            "|    value_loss           | 0.314       |\n",
            "-----------------------------------------\n"
          ]
        },
        {
          "output_type": "stream",
          "name": "stderr",
          "text": [
            "Training Progress:  20%|█▉        | 196568/1000000 [18:10<29:57, 446.95it/s]"
          ]
        },
        {
          "output_type": "stream",
          "name": "stdout",
          "text": [
            "-----------------------------------------\n",
            "| rollout/                |             |\n",
            "|    ep_len_mean          | 1.32e+03    |\n",
            "|    ep_rew_mean          | 176         |\n",
            "| time/                   |             |\n",
            "|    fps                  | 720         |\n",
            "|    iterations           | 96          |\n",
            "|    time_elapsed         | 1091        |\n",
            "|    total_timesteps      | 786432      |\n",
            "| train/                  |             |\n",
            "|    approx_kl            | 0.016416937 |\n",
            "|    clip_fraction        | 0.167       |\n",
            "|    clip_range           | 0.2         |\n",
            "|    entropy_loss         | -1.56       |\n",
            "|    explained_variance   | 0.926       |\n",
            "|    learning_rate        | 0.0003      |\n",
            "|    loss                 | 16.6        |\n",
            "|    n_updates            | 950         |\n",
            "|    policy_gradient_loss | -0.0035     |\n",
            "|    std                  | 0.359       |\n",
            "|    value_loss           | 6.65        |\n",
            "-----------------------------------------\n"
          ]
        },
        {
          "output_type": "stream",
          "name": "stderr",
          "text": [
            "Training Progress:  20%|█▉        | 198642/1000000 [18:22<30:07, 443.38it/s]"
          ]
        },
        {
          "output_type": "stream",
          "name": "stdout",
          "text": [
            "-----------------------------------------\n",
            "| rollout/                |             |\n",
            "|    ep_len_mean          | 1.31e+03    |\n",
            "|    ep_rew_mean          | 176         |\n",
            "| time/                   |             |\n",
            "|    fps                  | 720         |\n",
            "|    iterations           | 97          |\n",
            "|    time_elapsed         | 1102        |\n",
            "|    total_timesteps      | 794624      |\n",
            "| train/                  |             |\n",
            "|    approx_kl            | 0.020073585 |\n",
            "|    clip_fraction        | 0.205       |\n",
            "|    clip_range           | 0.2         |\n",
            "|    entropy_loss         | -1.53       |\n",
            "|    explained_variance   | 0.936       |\n",
            "|    learning_rate        | 0.0003      |\n",
            "|    loss                 | 0.558       |\n",
            "|    n_updates            | 960         |\n",
            "|    policy_gradient_loss | -0.00256    |\n",
            "|    std                  | 0.358       |\n",
            "|    value_loss           | 8.85        |\n",
            "-----------------------------------------\n"
          ]
        },
        {
          "output_type": "stream",
          "name": "stderr",
          "text": [
            "Training Progress:  20%|██        | 200684/1000000 [18:33<30:16, 440.05it/s]"
          ]
        },
        {
          "output_type": "stream",
          "name": "stdout",
          "text": [
            "----------------------------------------\n",
            "| rollout/                |            |\n",
            "|    ep_len_mean          | 1.33e+03   |\n",
            "|    ep_rew_mean          | 184        |\n",
            "| time/                   |            |\n",
            "|    fps                  | 720        |\n",
            "|    iterations           | 98         |\n",
            "|    time_elapsed         | 1114       |\n",
            "|    total_timesteps      | 802816     |\n",
            "| train/                  |            |\n",
            "|    approx_kl            | 0.02676416 |\n",
            "|    clip_fraction        | 0.288      |\n",
            "|    clip_range           | 0.2        |\n",
            "|    entropy_loss         | -1.53      |\n",
            "|    explained_variance   | 0.955      |\n",
            "|    learning_rate        | 0.0003     |\n",
            "|    loss                 | 0.99       |\n",
            "|    n_updates            | 970        |\n",
            "|    policy_gradient_loss | 0.00282    |\n",
            "|    std                  | 0.359      |\n",
            "|    value_loss           | 3.62       |\n",
            "----------------------------------------\n"
          ]
        },
        {
          "output_type": "stream",
          "name": "stderr",
          "text": [
            "Training Progress:  20%|██        | 202730/1000000 [18:45<48:25, 274.40it/s]"
          ]
        },
        {
          "output_type": "stream",
          "name": "stdout",
          "text": [
            "-----------------------------------------\n",
            "| rollout/                |             |\n",
            "|    ep_len_mean          | 1.32e+03    |\n",
            "|    ep_rew_mean          | 185         |\n",
            "| time/                   |             |\n",
            "|    fps                  | 720         |\n",
            "|    iterations           | 99          |\n",
            "|    time_elapsed         | 1125        |\n",
            "|    total_timesteps      | 811008      |\n",
            "| train/                  |             |\n",
            "|    approx_kl            | 0.024890626 |\n",
            "|    clip_fraction        | 0.288       |\n",
            "|    clip_range           | 0.2         |\n",
            "|    entropy_loss         | -1.52       |\n",
            "|    explained_variance   | 0.945       |\n",
            "|    learning_rate        | 0.0003      |\n",
            "|    loss                 | 1.18        |\n",
            "|    n_updates            | 980         |\n",
            "|    policy_gradient_loss | 0.000825    |\n",
            "|    std                  | 0.357       |\n",
            "|    value_loss           | 2.62        |\n",
            "-----------------------------------------\n"
          ]
        },
        {
          "output_type": "stream",
          "name": "stderr",
          "text": [
            "Training Progress:  20%|██        | 204787/1000000 [18:56<40:49, 324.59it/s]"
          ]
        },
        {
          "output_type": "stream",
          "name": "stdout",
          "text": [
            "-----------------------------------------\n",
            "| rollout/                |             |\n",
            "|    ep_len_mean          | 1.32e+03    |\n",
            "|    ep_rew_mean          | 186         |\n",
            "| time/                   |             |\n",
            "|    fps                  | 720         |\n",
            "|    iterations           | 100         |\n",
            "|    time_elapsed         | 1136        |\n",
            "|    total_timesteps      | 819200      |\n",
            "| train/                  |             |\n",
            "|    approx_kl            | 0.022361584 |\n",
            "|    clip_fraction        | 0.262       |\n",
            "|    clip_range           | 0.2         |\n",
            "|    entropy_loss         | -1.49       |\n",
            "|    explained_variance   | 0.871       |\n",
            "|    learning_rate        | 0.0003      |\n",
            "|    loss                 | 0.534       |\n",
            "|    n_updates            | 990         |\n",
            "|    policy_gradient_loss | -0.00247    |\n",
            "|    std                  | 0.353       |\n",
            "|    value_loss           | 5.52        |\n",
            "-----------------------------------------\n"
          ]
        },
        {
          "output_type": "stream",
          "name": "stderr",
          "text": [
            "Training Progress:  21%|██        | 206815/1000000 [19:07<30:47, 429.30it/s]"
          ]
        },
        {
          "output_type": "stream",
          "name": "stdout",
          "text": [
            "-----------------------------------------\n",
            "| rollout/                |             |\n",
            "|    ep_len_mean          | 1.31e+03    |\n",
            "|    ep_rew_mean          | 188         |\n",
            "| time/                   |             |\n",
            "|    fps                  | 721         |\n",
            "|    iterations           | 101         |\n",
            "|    time_elapsed         | 1147        |\n",
            "|    total_timesteps      | 827392      |\n",
            "| train/                  |             |\n",
            "|    approx_kl            | 0.024093302 |\n",
            "|    clip_fraction        | 0.285       |\n",
            "|    clip_range           | 0.2         |\n",
            "|    entropy_loss         | -1.43       |\n",
            "|    explained_variance   | 0.562       |\n",
            "|    learning_rate        | 0.0003      |\n",
            "|    loss                 | 0.221       |\n",
            "|    n_updates            | 1000        |\n",
            "|    policy_gradient_loss | -0.00299    |\n",
            "|    std                  | 0.347       |\n",
            "|    value_loss           | 1.44        |\n",
            "-----------------------------------------\n"
          ]
        },
        {
          "output_type": "stream",
          "name": "stderr",
          "text": [
            "Training Progress:  21%|██        | 208876/1000000 [19:18<31:09, 423.24it/s]"
          ]
        },
        {
          "output_type": "stream",
          "name": "stdout",
          "text": [
            "-----------------------------------------\n",
            "| rollout/                |             |\n",
            "|    ep_len_mean          | 1.31e+03    |\n",
            "|    ep_rew_mean          | 192         |\n",
            "| time/                   |             |\n",
            "|    fps                  | 721         |\n",
            "|    iterations           | 102         |\n",
            "|    time_elapsed         | 1158        |\n",
            "|    total_timesteps      | 835584      |\n",
            "| train/                  |             |\n",
            "|    approx_kl            | 0.021873761 |\n",
            "|    clip_fraction        | 0.253       |\n",
            "|    clip_range           | 0.2         |\n",
            "|    entropy_loss         | -1.37       |\n",
            "|    explained_variance   | 0.591       |\n",
            "|    learning_rate        | 0.0003      |\n",
            "|    loss                 | 0.574       |\n",
            "|    n_updates            | 1010        |\n",
            "|    policy_gradient_loss | -0.00289    |\n",
            "|    std                  | 0.343       |\n",
            "|    value_loss           | 2.12        |\n",
            "-----------------------------------------\n"
          ]
        },
        {
          "output_type": "stream",
          "name": "stderr",
          "text": [
            "Training Progress:  21%|██        | 210903/1000000 [19:30<29:43, 442.36it/s]"
          ]
        },
        {
          "output_type": "stream",
          "name": "stdout",
          "text": [
            "-----------------------------------------\n",
            "| rollout/                |             |\n",
            "|    ep_len_mean          | 1.33e+03    |\n",
            "|    ep_rew_mean          | 197         |\n",
            "| time/                   |             |\n",
            "|    fps                  | 720         |\n",
            "|    iterations           | 103         |\n",
            "|    time_elapsed         | 1171        |\n",
            "|    total_timesteps      | 843776      |\n",
            "| train/                  |             |\n",
            "|    approx_kl            | 0.019082481 |\n",
            "|    clip_fraction        | 0.212       |\n",
            "|    clip_range           | 0.2         |\n",
            "|    entropy_loss         | -1.35       |\n",
            "|    explained_variance   | 0.837       |\n",
            "|    learning_rate        | 0.0003      |\n",
            "|    loss                 | 0.806       |\n",
            "|    n_updates            | 1020        |\n",
            "|    policy_gradient_loss | -0.00046    |\n",
            "|    std                  | 0.341       |\n",
            "|    value_loss           | 9.45        |\n",
            "-----------------------------------------\n"
          ]
        },
        {
          "output_type": "stream",
          "name": "stderr",
          "text": [
            "Training Progress:  21%|██▏       | 212979/1000000 [19:42<29:02, 451.71it/s]"
          ]
        },
        {
          "output_type": "stream",
          "name": "stdout",
          "text": [
            "----------------------------------------\n",
            "| rollout/                |            |\n",
            "|    ep_len_mean          | 1.33e+03   |\n",
            "|    ep_rew_mean          | 201        |\n",
            "| time/                   |            |\n",
            "|    fps                  | 720        |\n",
            "|    iterations           | 104        |\n",
            "|    time_elapsed         | 1182       |\n",
            "|    total_timesteps      | 851968     |\n",
            "| train/                  |            |\n",
            "|    approx_kl            | 0.02454197 |\n",
            "|    clip_fraction        | 0.29       |\n",
            "|    clip_range           | 0.2        |\n",
            "|    entropy_loss         | -1.29      |\n",
            "|    explained_variance   | 0.951      |\n",
            "|    learning_rate        | 0.0003     |\n",
            "|    loss                 | 0.179      |\n",
            "|    n_updates            | 1030       |\n",
            "|    policy_gradient_loss | -0.00206   |\n",
            "|    std                  | 0.336      |\n",
            "|    value_loss           | 2.3        |\n",
            "----------------------------------------\n"
          ]
        },
        {
          "output_type": "stream",
          "name": "stderr",
          "text": [
            "Training Progress:  22%|██▏       | 215013/1000000 [19:53<30:35, 427.56it/s]"
          ]
        },
        {
          "output_type": "stream",
          "name": "stdout",
          "text": [
            "-----------------------------------------\n",
            "| rollout/                |             |\n",
            "|    ep_len_mean          | 1.31e+03    |\n",
            "|    ep_rew_mean          | 201         |\n",
            "| time/                   |             |\n",
            "|    fps                  | 720         |\n",
            "|    iterations           | 105         |\n",
            "|    time_elapsed         | 1194        |\n",
            "|    total_timesteps      | 860160      |\n",
            "| train/                  |             |\n",
            "|    approx_kl            | 0.021818142 |\n",
            "|    clip_fraction        | 0.267       |\n",
            "|    clip_range           | 0.2         |\n",
            "|    entropy_loss         | -1.27       |\n",
            "|    explained_variance   | 0.889       |\n",
            "|    learning_rate        | 0.0003      |\n",
            "|    loss                 | 2.76        |\n",
            "|    n_updates            | 1040        |\n",
            "|    policy_gradient_loss | -0.000769   |\n",
            "|    std                  | 0.335       |\n",
            "|    value_loss           | 3.2         |\n",
            "-----------------------------------------\n"
          ]
        },
        {
          "output_type": "stream",
          "name": "stderr",
          "text": [
            "Training Progress:  22%|██▏       | 217062/1000000 [20:05<30:57, 421.52it/s]"
          ]
        },
        {
          "output_type": "stream",
          "name": "stdout",
          "text": [
            "-----------------------------------------\n",
            "| rollout/                |             |\n",
            "|    ep_len_mean          | 1.29e+03    |\n",
            "|    ep_rew_mean          | 201         |\n",
            "| time/                   |             |\n",
            "|    fps                  | 720         |\n",
            "|    iterations           | 106         |\n",
            "|    time_elapsed         | 1205        |\n",
            "|    total_timesteps      | 868352      |\n",
            "| train/                  |             |\n",
            "|    approx_kl            | 0.020589959 |\n",
            "|    clip_fraction        | 0.264       |\n",
            "|    clip_range           | 0.2         |\n",
            "|    entropy_loss         | -1.26       |\n",
            "|    explained_variance   | 0.935       |\n",
            "|    learning_rate        | 0.0003      |\n",
            "|    loss                 | 4.46        |\n",
            "|    n_updates            | 1050        |\n",
            "|    policy_gradient_loss | -2.97e-05   |\n",
            "|    std                  | 0.334       |\n",
            "|    value_loss           | 2.67        |\n",
            "-----------------------------------------\n"
          ]
        },
        {
          "output_type": "stream",
          "name": "stderr",
          "text": [
            "Training Progress:  22%|██▏       | 219130/1000000 [20:16<43:49, 296.99it/s]"
          ]
        },
        {
          "output_type": "stream",
          "name": "stdout",
          "text": [
            "-----------------------------------------\n",
            "| rollout/                |             |\n",
            "|    ep_len_mean          | 1.31e+03    |\n",
            "|    ep_rew_mean          | 207         |\n",
            "| time/                   |             |\n",
            "|    fps                  | 720         |\n",
            "|    iterations           | 107         |\n",
            "|    time_elapsed         | 1216        |\n",
            "|    total_timesteps      | 876544      |\n",
            "| train/                  |             |\n",
            "|    approx_kl            | 0.022575632 |\n",
            "|    clip_fraction        | 0.231       |\n",
            "|    clip_range           | 0.2         |\n",
            "|    entropy_loss         | -1.25       |\n",
            "|    explained_variance   | 0.946       |\n",
            "|    learning_rate        | 0.0003      |\n",
            "|    loss                 | 1.06        |\n",
            "|    n_updates            | 1060        |\n",
            "|    policy_gradient_loss | -0.0024     |\n",
            "|    std                  | 0.335       |\n",
            "|    value_loss           | 7.98        |\n",
            "-----------------------------------------\n"
          ]
        },
        {
          "output_type": "stream",
          "name": "stderr",
          "text": [
            "Training Progress:  22%|██▏       | 221141/1000000 [20:27<29:33, 439.18it/s]"
          ]
        },
        {
          "output_type": "stream",
          "name": "stdout",
          "text": [
            "-----------------------------------------\n",
            "| rollout/                |             |\n",
            "|    ep_len_mean          | 1.27e+03    |\n",
            "|    ep_rew_mean          | 199         |\n",
            "| time/                   |             |\n",
            "|    fps                  | 720         |\n",
            "|    iterations           | 108         |\n",
            "|    time_elapsed         | 1227        |\n",
            "|    total_timesteps      | 884736      |\n",
            "| train/                  |             |\n",
            "|    approx_kl            | 0.023504678 |\n",
            "|    clip_fraction        | 0.272       |\n",
            "|    clip_range           | 0.2         |\n",
            "|    entropy_loss         | -1.24       |\n",
            "|    explained_variance   | 0.948       |\n",
            "|    learning_rate        | 0.0003      |\n",
            "|    loss                 | 2.05        |\n",
            "|    n_updates            | 1070        |\n",
            "|    policy_gradient_loss | 0.000425    |\n",
            "|    std                  | 0.332       |\n",
            "|    value_loss           | 7.44        |\n",
            "-----------------------------------------\n"
          ]
        },
        {
          "output_type": "stream",
          "name": "stderr",
          "text": [
            "Training Progress:  22%|██▏       | 223210/1000000 [20:38<30:16, 427.52it/s]"
          ]
        },
        {
          "output_type": "stream",
          "name": "stdout",
          "text": [
            "----------------------------------------\n",
            "| rollout/                |            |\n",
            "|    ep_len_mean          | 1.25e+03   |\n",
            "|    ep_rew_mean          | 202        |\n",
            "| time/                   |            |\n",
            "|    fps                  | 720        |\n",
            "|    iterations           | 109        |\n",
            "|    time_elapsed         | 1238       |\n",
            "|    total_timesteps      | 892928     |\n",
            "| train/                  |            |\n",
            "|    approx_kl            | 0.02650429 |\n",
            "|    clip_fraction        | 0.261      |\n",
            "|    clip_range           | 0.2        |\n",
            "|    entropy_loss         | -1.22      |\n",
            "|    explained_variance   | 0.948      |\n",
            "|    learning_rate        | 0.0003     |\n",
            "|    loss                 | 2.5        |\n",
            "|    n_updates            | 1080       |\n",
            "|    policy_gradient_loss | -7.39e-05  |\n",
            "|    std                  | 0.331      |\n",
            "|    value_loss           | 8.4        |\n",
            "----------------------------------------\n"
          ]
        },
        {
          "output_type": "stream",
          "name": "stderr",
          "text": [
            "Training Progress:  23%|██▎       | 225265/1000000 [20:49<30:03, 429.47it/s]"
          ]
        },
        {
          "output_type": "stream",
          "name": "stdout",
          "text": [
            "-----------------------------------------\n",
            "| rollout/                |             |\n",
            "|    ep_len_mean          | 1.26e+03    |\n",
            "|    ep_rew_mean          | 208         |\n",
            "| time/                   |             |\n",
            "|    fps                  | 720         |\n",
            "|    iterations           | 110         |\n",
            "|    time_elapsed         | 1249        |\n",
            "|    total_timesteps      | 901120      |\n",
            "| train/                  |             |\n",
            "|    approx_kl            | 0.030035524 |\n",
            "|    clip_fraction        | 0.305       |\n",
            "|    clip_range           | 0.2         |\n",
            "|    entropy_loss         | -1.2        |\n",
            "|    explained_variance   | 0.867       |\n",
            "|    learning_rate        | 0.0003      |\n",
            "|    loss                 | 4.01        |\n",
            "|    n_updates            | 1090        |\n",
            "|    policy_gradient_loss | 0.00206     |\n",
            "|    std                  | 0.329       |\n",
            "|    value_loss           | 6.65        |\n",
            "-----------------------------------------\n"
          ]
        },
        {
          "output_type": "stream",
          "name": "stderr",
          "text": [
            "Training Progress:  23%|██▎       | 227322/1000000 [21:01<29:10, 441.36it/s]"
          ]
        },
        {
          "output_type": "stream",
          "name": "stdout",
          "text": [
            "---------------------------------------\n",
            "| rollout/                |           |\n",
            "|    ep_len_mean          | 1.25e+03  |\n",
            "|    ep_rew_mean          | 208       |\n",
            "| time/                   |           |\n",
            "|    fps                  | 720       |\n",
            "|    iterations           | 111       |\n",
            "|    time_elapsed         | 1261      |\n",
            "|    total_timesteps      | 909312    |\n",
            "| train/                  |           |\n",
            "|    approx_kl            | 0.0252132 |\n",
            "|    clip_fraction        | 0.306     |\n",
            "|    clip_range           | 0.2       |\n",
            "|    entropy_loss         | -1.18     |\n",
            "|    explained_variance   | 0.897     |\n",
            "|    learning_rate        | 0.0003    |\n",
            "|    loss                 | 6.38      |\n",
            "|    n_updates            | 1100      |\n",
            "|    policy_gradient_loss | 0.00213   |\n",
            "|    std                  | 0.328     |\n",
            "|    value_loss           | 11.4      |\n",
            "---------------------------------------\n"
          ]
        },
        {
          "output_type": "stream",
          "name": "stderr",
          "text": [
            "Training Progress:  23%|██▎       | 229340/1000000 [21:12<30:11, 425.43it/s]"
          ]
        },
        {
          "output_type": "stream",
          "name": "stdout",
          "text": [
            "----------------------------------------\n",
            "| rollout/                |            |\n",
            "|    ep_len_mean          | 1.29e+03   |\n",
            "|    ep_rew_mean          | 220        |\n",
            "| time/                   |            |\n",
            "|    fps                  | 720        |\n",
            "|    iterations           | 112        |\n",
            "|    time_elapsed         | 1272       |\n",
            "|    total_timesteps      | 917504     |\n",
            "| train/                  |            |\n",
            "|    approx_kl            | 0.02930792 |\n",
            "|    clip_fraction        | 0.323      |\n",
            "|    clip_range           | 0.2        |\n",
            "|    entropy_loss         | -1.18      |\n",
            "|    explained_variance   | 0.298      |\n",
            "|    learning_rate        | 0.0003     |\n",
            "|    loss                 | 2.17       |\n",
            "|    n_updates            | 1110       |\n",
            "|    policy_gradient_loss | 0.00137    |\n",
            "|    std                  | 0.328      |\n",
            "|    value_loss           | 3.81       |\n",
            "----------------------------------------\n"
          ]
        },
        {
          "output_type": "stream",
          "name": "stderr",
          "text": [
            "Training Progress:  23%|██▎       | 231404/1000000 [21:24<28:58, 442.18it/s]"
          ]
        },
        {
          "output_type": "stream",
          "name": "stdout",
          "text": [
            "-----------------------------------------\n",
            "| rollout/                |             |\n",
            "|    ep_len_mean          | 1.25e+03    |\n",
            "|    ep_rew_mean          | 213         |\n",
            "| time/                   |             |\n",
            "|    fps                  | 720         |\n",
            "|    iterations           | 113         |\n",
            "|    time_elapsed         | 1284        |\n",
            "|    total_timesteps      | 925696      |\n",
            "| train/                  |             |\n",
            "|    approx_kl            | 0.027213726 |\n",
            "|    clip_fraction        | 0.283       |\n",
            "|    clip_range           | 0.2         |\n",
            "|    entropy_loss         | -1.19       |\n",
            "|    explained_variance   | 0.922       |\n",
            "|    learning_rate        | 0.0003      |\n",
            "|    loss                 | 1.11        |\n",
            "|    n_updates            | 1120        |\n",
            "|    policy_gradient_loss | -0.00239    |\n",
            "|    std                  | 0.328       |\n",
            "|    value_loss           | 5.22        |\n",
            "-----------------------------------------\n"
          ]
        },
        {
          "output_type": "stream",
          "name": "stderr",
          "text": [
            "Training Progress:  23%|██▎       | 233468/1000000 [21:35<29:26, 433.92it/s]"
          ]
        },
        {
          "output_type": "stream",
          "name": "stdout",
          "text": [
            "-----------------------------------------\n",
            "| rollout/                |             |\n",
            "|    ep_len_mean          | 1.24e+03    |\n",
            "|    ep_rew_mean          | 214         |\n",
            "| time/                   |             |\n",
            "|    fps                  | 720         |\n",
            "|    iterations           | 114         |\n",
            "|    time_elapsed         | 1295        |\n",
            "|    total_timesteps      | 933888      |\n",
            "| train/                  |             |\n",
            "|    approx_kl            | 0.026339557 |\n",
            "|    clip_fraction        | 0.279       |\n",
            "|    clip_range           | 0.2         |\n",
            "|    entropy_loss         | -1.18       |\n",
            "|    explained_variance   | 0.942       |\n",
            "|    learning_rate        | 0.0003      |\n",
            "|    loss                 | 7.12        |\n",
            "|    n_updates            | 1130        |\n",
            "|    policy_gradient_loss | -0.00118    |\n",
            "|    std                  | 0.328       |\n",
            "|    value_loss           | 5.99        |\n",
            "-----------------------------------------\n"
          ]
        },
        {
          "output_type": "stream",
          "name": "stderr",
          "text": [
            "Training Progress:  24%|██▎       | 235492/1000000 [21:46<45:09, 282.17it/s]"
          ]
        },
        {
          "output_type": "stream",
          "name": "stdout",
          "text": [
            "----------------------------------------\n",
            "| rollout/                |            |\n",
            "|    ep_len_mean          | 1.21e+03   |\n",
            "|    ep_rew_mean          | 208        |\n",
            "| time/                   |            |\n",
            "|    fps                  | 720        |\n",
            "|    iterations           | 115        |\n",
            "|    time_elapsed         | 1307       |\n",
            "|    total_timesteps      | 942080     |\n",
            "| train/                  |            |\n",
            "|    approx_kl            | 0.02561162 |\n",
            "|    clip_fraction        | 0.272      |\n",
            "|    clip_range           | 0.2        |\n",
            "|    entropy_loss         | -1.17      |\n",
            "|    explained_variance   | 0.85       |\n",
            "|    learning_rate        | 0.0003     |\n",
            "|    loss                 | 23.5       |\n",
            "|    n_updates            | 1140       |\n",
            "|    policy_gradient_loss | 0.00095    |\n",
            "|    std                  | 0.327      |\n",
            "|    value_loss           | 15.7       |\n",
            "----------------------------------------\n"
          ]
        },
        {
          "output_type": "stream",
          "name": "stderr",
          "text": [
            "Training Progress:  24%|██▍       | 237554/1000000 [21:57<40:34, 313.24it/s]"
          ]
        },
        {
          "output_type": "stream",
          "name": "stdout",
          "text": [
            "----------------------------------------\n",
            "| rollout/                |            |\n",
            "|    ep_len_mean          | 1.2e+03    |\n",
            "|    ep_rew_mean          | 205        |\n",
            "| time/                   |            |\n",
            "|    fps                  | 721        |\n",
            "|    iterations           | 116        |\n",
            "|    time_elapsed         | 1317       |\n",
            "|    total_timesteps      | 950272     |\n",
            "| train/                  |            |\n",
            "|    approx_kl            | 0.03479927 |\n",
            "|    clip_fraction        | 0.34       |\n",
            "|    clip_range           | 0.2        |\n",
            "|    entropy_loss         | -1.18      |\n",
            "|    explained_variance   | 0.905      |\n",
            "|    learning_rate        | 0.0003     |\n",
            "|    loss                 | 1.68       |\n",
            "|    n_updates            | 1150       |\n",
            "|    policy_gradient_loss | 0.00212    |\n",
            "|    std                  | 0.328      |\n",
            "|    value_loss           | 7.75       |\n",
            "----------------------------------------\n"
          ]
        },
        {
          "output_type": "stream",
          "name": "stderr",
          "text": [
            "Training Progress:  24%|██▍       | 239595/1000000 [22:08<28:18, 447.78it/s]"
          ]
        },
        {
          "output_type": "stream",
          "name": "stdout",
          "text": [
            "----------------------------------------\n",
            "| rollout/                |            |\n",
            "|    ep_len_mean          | 1.21e+03   |\n",
            "|    ep_rew_mean          | 209        |\n",
            "| time/                   |            |\n",
            "|    fps                  | 721        |\n",
            "|    iterations           | 117        |\n",
            "|    time_elapsed         | 1328       |\n",
            "|    total_timesteps      | 958464     |\n",
            "| train/                  |            |\n",
            "|    approx_kl            | 0.02618417 |\n",
            "|    clip_fraction        | 0.335      |\n",
            "|    clip_range           | 0.2        |\n",
            "|    entropy_loss         | -1.19      |\n",
            "|    explained_variance   | 0.913      |\n",
            "|    learning_rate        | 0.0003     |\n",
            "|    loss                 | 0.916      |\n",
            "|    n_updates            | 1160       |\n",
            "|    policy_gradient_loss | -0.000201  |\n",
            "|    std                  | 0.329      |\n",
            "|    value_loss           | 4.35       |\n",
            "----------------------------------------\n"
          ]
        },
        {
          "output_type": "stream",
          "name": "stderr",
          "text": [
            "Training Progress:  24%|██▍       | 241651/1000000 [22:20<29:42, 425.53it/s]"
          ]
        },
        {
          "output_type": "stream",
          "name": "stdout",
          "text": [
            "----------------------------------------\n",
            "| rollout/                |            |\n",
            "|    ep_len_mean          | 1.18e+03   |\n",
            "|    ep_rew_mean          | 203        |\n",
            "| time/                   |            |\n",
            "|    fps                  | 721        |\n",
            "|    iterations           | 118        |\n",
            "|    time_elapsed         | 1340       |\n",
            "|    total_timesteps      | 966656     |\n",
            "| train/                  |            |\n",
            "|    approx_kl            | 0.02582651 |\n",
            "|    clip_fraction        | 0.302      |\n",
            "|    clip_range           | 0.2        |\n",
            "|    entropy_loss         | -1.19      |\n",
            "|    explained_variance   | 0.804      |\n",
            "|    learning_rate        | 0.0003     |\n",
            "|    loss                 | 5.78       |\n",
            "|    n_updates            | 1170       |\n",
            "|    policy_gradient_loss | -0.000364  |\n",
            "|    std                  | 0.327      |\n",
            "|    value_loss           | 9.72       |\n",
            "----------------------------------------\n"
          ]
        },
        {
          "output_type": "stream",
          "name": "stderr",
          "text": [
            "Training Progress:  24%|██▍       | 243703/1000000 [22:31<28:27, 442.87it/s]"
          ]
        },
        {
          "output_type": "stream",
          "name": "stdout",
          "text": [
            "-----------------------------------------\n",
            "| rollout/                |             |\n",
            "|    ep_len_mean          | 1.18e+03    |\n",
            "|    ep_rew_mean          | 203         |\n",
            "| time/                   |             |\n",
            "|    fps                  | 721         |\n",
            "|    iterations           | 119         |\n",
            "|    time_elapsed         | 1351        |\n",
            "|    total_timesteps      | 974848      |\n",
            "| train/                  |             |\n",
            "|    approx_kl            | 0.024560906 |\n",
            "|    clip_fraction        | 0.276       |\n",
            "|    clip_range           | 0.2         |\n",
            "|    entropy_loss         | -1.17       |\n",
            "|    explained_variance   | 0.965       |\n",
            "|    learning_rate        | 0.0003      |\n",
            "|    loss                 | 0.41        |\n",
            "|    n_updates            | 1180        |\n",
            "|    policy_gradient_loss | -0.00246    |\n",
            "|    std                  | 0.327       |\n",
            "|    value_loss           | 4.27        |\n",
            "-----------------------------------------\n"
          ]
        },
        {
          "output_type": "stream",
          "name": "stderr",
          "text": [
            "Training Progress:  25%|██▍       | 245724/1000000 [22:43<28:28, 441.46it/s]"
          ]
        },
        {
          "output_type": "stream",
          "name": "stdout",
          "text": [
            "-----------------------------------------\n",
            "| rollout/                |             |\n",
            "|    ep_len_mean          | 1.17e+03    |\n",
            "|    ep_rew_mean          | 201         |\n",
            "| time/                   |             |\n",
            "|    fps                  | 721         |\n",
            "|    iterations           | 120         |\n",
            "|    time_elapsed         | 1363        |\n",
            "|    total_timesteps      | 983040      |\n",
            "| train/                  |             |\n",
            "|    approx_kl            | 0.024479643 |\n",
            "|    clip_fraction        | 0.306       |\n",
            "|    clip_range           | 0.2         |\n",
            "|    entropy_loss         | -1.16       |\n",
            "|    explained_variance   | 0.616       |\n",
            "|    learning_rate        | 0.0003      |\n",
            "|    loss                 | 0.438       |\n",
            "|    n_updates            | 1190        |\n",
            "|    policy_gradient_loss | -0.00341    |\n",
            "|    std                  | 0.325       |\n",
            "|    value_loss           | 1.75        |\n",
            "-----------------------------------------\n"
          ]
        },
        {
          "output_type": "stream",
          "name": "stderr",
          "text": [
            "Training Progress:  25%|██▍       | 247804/1000000 [22:54<28:43, 436.50it/s]"
          ]
        },
        {
          "output_type": "stream",
          "name": "stdout",
          "text": [
            "----------------------------------------\n",
            "| rollout/                |            |\n",
            "|    ep_len_mean          | 1.18e+03   |\n",
            "|    ep_rew_mean          | 205        |\n",
            "| time/                   |            |\n",
            "|    fps                  | 721        |\n",
            "|    iterations           | 121        |\n",
            "|    time_elapsed         | 1374       |\n",
            "|    total_timesteps      | 991232     |\n",
            "| train/                  |            |\n",
            "|    approx_kl            | 0.01831729 |\n",
            "|    clip_fraction        | 0.212      |\n",
            "|    clip_range           | 0.2        |\n",
            "|    entropy_loss         | -1.15      |\n",
            "|    explained_variance   | 0.927      |\n",
            "|    learning_rate        | 0.0003     |\n",
            "|    loss                 | 2.92       |\n",
            "|    n_updates            | 1200       |\n",
            "|    policy_gradient_loss | -0.00441   |\n",
            "|    std                  | 0.325      |\n",
            "|    value_loss           | 6.56       |\n",
            "----------------------------------------\n"
          ]
        },
        {
          "output_type": "stream",
          "name": "stderr",
          "text": [
            "Training Progress:  25%|██▍       | 249845/1000000 [23:07<29:00, 431.02it/s]"
          ]
        },
        {
          "output_type": "stream",
          "name": "stdout",
          "text": [
            "----------------------------------------\n",
            "| rollout/                |            |\n",
            "|    ep_len_mean          | 1.19e+03   |\n",
            "|    ep_rew_mean          | 209        |\n",
            "| time/                   |            |\n",
            "|    fps                  | 720        |\n",
            "|    iterations           | 122        |\n",
            "|    time_elapsed         | 1387       |\n",
            "|    total_timesteps      | 999424     |\n",
            "| train/                  |            |\n",
            "|    approx_kl            | 0.02932977 |\n",
            "|    clip_fraction        | 0.312      |\n",
            "|    clip_range           | 0.2        |\n",
            "|    entropy_loss         | -1.15      |\n",
            "|    explained_variance   | 0.828      |\n",
            "|    learning_rate        | 0.0003     |\n",
            "|    loss                 | 2.22       |\n",
            "|    n_updates            | 1210       |\n",
            "|    policy_gradient_loss | 0.000909   |\n",
            "|    std                  | 0.325      |\n",
            "|    value_loss           | 4.25       |\n",
            "----------------------------------------\n"
          ]
        },
        {
          "output_type": "stream",
          "name": "stderr",
          "text": [
            "Training Progress:  25%|██▌       | 251888/1000000 [23:18<43:53, 284.03it/s]"
          ]
        },
        {
          "output_type": "stream",
          "name": "stdout",
          "text": [
            "-----------------------------------------\n",
            "| rollout/                |             |\n",
            "|    ep_len_mean          | 1.2e+03     |\n",
            "|    ep_rew_mean          | 212         |\n",
            "| time/                   |             |\n",
            "|    fps                  | 720         |\n",
            "|    iterations           | 123         |\n",
            "|    time_elapsed         | 1398        |\n",
            "|    total_timesteps      | 1007616     |\n",
            "| train/                  |             |\n",
            "|    approx_kl            | 0.024581298 |\n",
            "|    clip_fraction        | 0.239       |\n",
            "|    clip_range           | 0.2         |\n",
            "|    entropy_loss         | -1.15       |\n",
            "|    explained_variance   | 0.91        |\n",
            "|    learning_rate        | 0.0003      |\n",
            "|    loss                 | 4.88        |\n",
            "|    n_updates            | 1220        |\n",
            "|    policy_gradient_loss | -0.00283    |\n",
            "|    std                  | 0.326       |\n",
            "|    value_loss           | 7.01        |\n",
            "-----------------------------------------\n"
          ]
        },
        {
          "output_type": "stream",
          "name": "stderr",
          "text": [
            "\rTraining Progress:  25%|██▌       | 251904/1000000 [23:24<1:09:30, 179.37it/s]\n"
          ]
        },
        {
          "output_type": "execute_result",
          "data": {
            "text/plain": [
              "<stable_baselines3.ppo.ppo.PPO at 0x789e204da8c0>"
            ]
          },
          "metadata": {},
          "execution_count": 21
        }
      ]
    },
    {
      "cell_type": "code",
      "source": [
        "import gymnasium as gym\n",
        "import matplotlib.pyplot as plt\n",
        "import numpy as np\n",
        "\n",
        "eval_env = gym.make('BipedalWalker-v3')\n",
        "episodes = 10\n",
        "rewards = []\n",
        "\n",
        "for episode in range(episodes):\n",
        "    try:\n",
        "        observation, info = eval_env.reset()\n",
        "    except ValueError:\n",
        "        observation = eval_env.reset()\n",
        "\n",
        "    episode_reward = 0\n",
        "    done = False\n",
        "\n",
        "    while not done:\n",
        "        action, _states = model.predict(observation)\n",
        "        step_result = eval_env.step(action)\n",
        "\n",
        "        if len(step_result) == 5:\n",
        "            observation, reward, done, truncated, info = step_result\n",
        "        else:\n",
        "            observation, reward, done, info = step_result\n",
        "\n",
        "        episode_reward += reward\n",
        "\n",
        "    rewards.append(episode_reward)\n",
        "\n",
        "avg_reward = np.mean(rewards)\n",
        "print(f'Average Reward over {episodes} episodes: {avg_reward}')\n",
        "\n",
        "plt.plot(rewards)\n",
        "plt.xlabel('Episode')\n",
        "plt.ylabel('Reward')\n",
        "plt.title('Cumulative Reward per Episode')\n",
        "plt.show()\n"
      ],
      "metadata": {
        "colab": {
          "base_uri": "https://localhost:8080/",
          "height": 489
        },
        "id": "TVG_Px5YJt47",
        "outputId": "a52d6dc0-4019-4e89-ea46-4b942ca0ba3d"
      },
      "execution_count": 22,
      "outputs": [
        {
          "output_type": "stream",
          "name": "stdout",
          "text": [
            "Average Reward over 10 episodes: 280.6249682323983\n"
          ]
        },
        {
          "output_type": "display_data",
          "data": {
            "text/plain": [
              "<Figure size 640x480 with 1 Axes>"
            ],
            "image/png": "[encoded data removed]"
          },
          "metadata": {}
        }
      ]
    },
    {
      "cell_type": "code",
      "source": [
        "import gymnasium as gym\n",
        "from gymnasium.wrappers import RecordVideo\n",
        "\n",
        "eval_env = gym.make('BipedalWalker-v3', render_mode='rgb_array')\n",
        "eval_env = RecordVideo(eval_env, './video', episode_trigger=lambda e: True)\n",
        "\n",
        "try:\n",
        "    observation, info = eval_env.reset()\n",
        "except ValueError:\n",
        "    observation = eval_env.reset()\n",
        "\n",
        "done = False\n",
        "\n",
        "while not done:\n",
        "    action, _states = model.predict(observation)\n",
        "    step_result = eval_env.step(action)\n",
        "\n",
        "    if len(step_result) == 5:\n",
        "        observation, reward, done, truncated, info = step_result\n",
        "    else:\n",
        "        observation, reward, done, info = step_result\n",
        "\n",
        "eval_env.close()\n"
      ],
      "metadata": {
        "colab": {
          "base_uri": "https://localhost:8080/"
        },
        "id": "3xXH9aNMKVum",
        "outputId": "92ce6e30-e437-40ed-8055-bf6416feb5a0"
      },
      "execution_count": 23,
      "outputs": [
        {
          "output_type": "stream",
          "name": "stderr",
          "text": [
            "/usr/local/lib/python3.10/dist-packages/gymnasium/wrappers/rendering.py:282: UserWarning: \u001b[33mWARN: Overwriting existing videos at /content/video folder (try specifying a different `video_folder` for the `RecordVideo` wrapper if this is not desired)\u001b[0m\n"
          ]
        }
      ]
    },
    {
      "cell_type": "code",
      "source": [
        "import gymnasium as gym\n",
        "import matplotlib.pyplot as plt\n",
        "import numpy as np\n",
        "\n",
        "eval_env = gym.make('BipedalWalker-v3')\n",
        "episodes = 10\n",
        "rewards = []\n",
        "\n",
        "for episode in range(episodes):\n",
        "    try:\n",
        "        observation, info = eval_env.reset()\n",
        "    except ValueError:\n",
        "        observation = eval_env.reset()\n",
        "\n",
        "    episode_reward = 0\n",
        "    done = False\n",
        "\n",
        "    while not done:\n",
        "        action, _states = model.predict(observation)\n",
        "        step_result = eval_env.step(action)\n",
        "\n",
        "        if len(step_result) == 5:\n",
        "            observation, reward, done, truncated, info = step_result\n",
        "        else:\n",
        "            observation, reward, done, info = step_result\n",
        "\n",
        "        episode_reward += reward\n",
        "\n",
        "    rewards.append(episode_reward)\n",
        "\n",
        "avg_reward = np.mean(rewards)\n",
        "print(f'Average Reward over {episodes} episodes: {avg_reward}')\n",
        "\n",
        "plt.plot(rewards)\n",
        "plt.xlabel('Episode')\n",
        "plt.ylabel('Reward')\n",
        "plt.title('Cumulative Reward per Episode')\n",
        "plt.show()\n"
      ],
      "metadata": {
        "colab": {
          "base_uri": "https://localhost:8080/",
          "height": 489
        },
        "id": "2qr99jLzMt_M",
        "outputId": "4c5125ec-6ffd-4fba-9b0d-9eb0d95899b3"
      },
      "execution_count": 24,
      "outputs": [
        {
          "output_type": "stream",
          "name": "stdout",
          "text": [
            "Average Reward over 10 episodes: 223.8889206297609\n"
          ]
        },
        {
          "output_type": "display_data",
          "data": {
            "text/plain": [
              "<Figure size 640x480 with 1 Axes>"
            ],
            "image/png": "[encoded data removed]"
          },
          "metadata": {}
        }
      ]
    },
    {
      "cell_type": "markdown",
      "source": [
        "saving"
      ],
      "metadata": {
        "id": "kS78yKIuXA6D"
      }
    },
    {
      "cell_type": "code",
      "source": [
        "model.save(\"ppo_bipedalwalker\")"
      ],
      "metadata": {
        "id": "Z48KG5OsMyH3"
      },
      "execution_count": null,
      "outputs": []
    },
    {
      "cell_type": "markdown",
      "source": [
        "loading model"
      ],
      "metadata": {
        "id": "gkFfPBIcXB3S"
      }
    },
    {
      "cell_type": "code",
      "source": [
        "\n",
        "from stable_baselines3 import PPO\n",
        "\n",
        "model = PPO.load(\"ppo_bipedalwalker\")\n"
      ],
      "metadata": {
        "id": "wu58QefAXxdp"
      },
      "execution_count": 29,
      "outputs": []
    }
  ]
}